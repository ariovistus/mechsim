{
 "cells": [
  {
   "cell_type": "code",
   "execution_count": null,
   "metadata": {
    "collapsed": true
   },
   "outputs": [],
   "source": [
    "#!pip install frc3223-azurite\n",
    "#!pip install pynetworktables==2017.0.8\n",
    "#!pip install pyfrc==2017.1.5"
   ]
  },
  {
   "cell_type": "code",
   "execution_count": 3,
   "metadata": {
    "collapsed": true
   },
   "outputs": [],
   "source": [
    "import numpy\n",
    "import ctre\n",
    "\n",
    "from hal_impl.data import hal_data\n",
    "from matplotlib import pyplot as plt\n",
    "from elevator import ElevatorSimulation\n",
    "from frc3223_azurite import motors\n",
    "from frc3223_azurite.conversions import *\n",
    "from frc3223_azurite.pidcontroller import NoThreadingPIDController as PIDController\n",
    "from matplotlib import animation, rc\n",
    "from IPython.display import HTML\n",
    "import matplotlib\n",
    "\n",
    "def plot_position(sim, ylim=None):\n",
    "    plt.plot(sim.ts, sim.xs)\n",
    "    if ylim is None:\n",
    "        ylim = (-sim.max_height_m * 0.1, sim.max_height_m * 1.1)\n",
    "    plt.ylim(*ylim)\n",
    "    plt.xlabel('time (s)')\n",
    "    plt.ylabel('position (m)')\n",
    "    plt.show()\n",
    "    \n",
    "def plot_velocity(sim):\n",
    "    m2ft = numpy.vectorize(lambda mps: mps / sim.sprocket_radius_m)\n",
    "    plt.plot(sim.ts, m2ft(sim.vs))\n",
    "    #plt.ylim(-10, 10)\n",
    "    plt.xlabel('time (s)')\n",
    "    plt.ylabel('velocity (rad/s)')\n",
    "    plt.show()\n",
    "\n",
    "def plot_current(sim, invert=False):\n",
    "    plt.plot(sim.ts, (-1 if invert else 1) * sim.currents)\n",
    "    plt.ylim(-sim.motor_system.motor.stall_current * 0.1, 15)\n",
    "    plt.xlabel('time (s)')\n",
    "    plt.ylabel('current (A)')\n",
    "    plt.show()\n",
    "    \n",
    "def plot_voltage(sim, invert=False):\n",
    "    plt.plot(sim.ts, (-1 if invert else 1) * sim.voltages)\n",
    "    plt.ylim(0, 13)\n",
    "    plt.xlabel('time (s)')\n",
    "    plt.ylabel('voltage (V)')\n",
    "    plt.show()\n",
    "\n",
    "width = inch_to_meter(4)\n",
    "stage_x = numpy.array([0, 0, width, width, 0])\n",
    "_stage_y = numpy.array([0, 1, 1, 0, 0])\n",
    "\n",
    "\n",
    "def animate_lift(sim, frame_interval_ms=50, speed_factor=1):\n",
    "    assert matplotlib.rcParams['animation.writer'] in matplotlib.animation.writers.list(), 'choose an available writer!'\n",
    "    fig, ax = plt.subplots()\n",
    "    stage_y = _stage_y * sim.max_height_m\n",
    "    base_stage, stage_1, stage_2, carriage = plots = [ax.plot(stage_x, stage_y)[0] for i in range(4)]\n",
    "    plt.ylim(0, (len(plots) * 2 + 0.1) * sim.max_height_m)\n",
    "    dt = sim.ts[1]-sim.ts[0]\n",
    "    n = int(frame_interval_ms / 1000. / dt) # number of data points to skip\n",
    "    L = len(sim.ts) // n # number of data points sampled at 20 ms\n",
    "    print (n, L, len(sim.ts))\n",
    "    def init():\n",
    "        return (line,)\n",
    "    def animate(j): \n",
    "        i = j * n\n",
    "        plots[1].set_ydata(stage_y + sim.xs[i])\n",
    "        plots[2].set_ydata(stage_y + 2 * sim.xs[i])\n",
    "        plots[3].set_ydata(stage_y * 0.3 + 3 * sim.xs[i])\n",
    "\n",
    "        return plots\n",
    "\n",
    "\n",
    "    anim = animation.FuncAnimation(fig, animate, frames=L, interval=frame_interval_ms / speed_factor, blit=True)\n",
    "    return anim\n",
    "\n",
    "\n",
    "def animate_climb(sim, frame_interval_ms=50, speed_factor=1):\n",
    "    assert matplotlib.rcParams['animation.writer'] in matplotlib.animation.writers.list(), 'choose an available writer!'\n",
    "    fig, ax = plt.subplots()\n",
    "    stage_y = _stage_y * sim.max_height_m\n",
    "    base_stage, stage_1, stage_2, carriage = plots = [\n",
    "        ax.plot(stage_x, stage_y + i * sim.max_height_m)[0] for i in range(4)]\n",
    "    plt.ylim(0, (len(plots) * 2 + 0.1) * sim.max_height_m)\n",
    "    dt = sim.ts[1]-sim.ts[0]\n",
    "    n = int(frame_interval_ms / 1000. / dt) # number of data points to skip\n",
    "    L = len(sim.ts) // n # number of data points sampled at 20 ms\n",
    "    print (n, L, len(sim.ts))\n",
    "    def init():\n",
    "        return (line,)\n",
    "    def animate(j): \n",
    "        i = j * n\n",
    "        plots[0].set_ydata(stage_y + sim.xs[i])\n",
    "        plots[2].set_ydata(stage_y + 2 * sim.max_height_m - sim.xs[i])\n",
    "        plots[3].set_ydata(stage_y * 0.3 + 3 * sim.max_height_m - 2 * sim.xs[i])\n",
    "\n",
    "        return plots\n",
    "\n",
    "\n",
    "    anim = animation.FuncAnimation(fig, animate, frames=L, interval=frame_interval_ms / speed_factor, blit=True)\n",
    "    return anim\n"
   ]
  },
  {
   "cell_type": "code",
   "execution_count": 44,
   "metadata": {},
   "outputs": [],
   "source": [
    "def init(state):\n",
    "    import wpilib\n",
    "    state.timer = wpilib.Timer()\n",
    "    state.timer.start()\n",
    "    state.motor.set(0.0)\n",
    "    ctre.WPI_TalonSRX.Notifier = None\n",
    "    '''\n",
    "    talon = ctre.WPI_TalonSRX(1)\n",
    "    \n",
    "    talon.selectProfileSlot(0, 0)\n",
    "    talon.configSelectedFeedbackSensor(talon.FeedbackDevice.QuadEncoder, 0, 0)\n",
    "    talon.configMotionCruiseVelocity(int(3 * 4096 * 0.1), 0) # 1 rps\n",
    "    talon.configMotionAcceleration(int(6 * 4096 * 0.1), 0) # 2 rps^2\n",
    "    talon.configAllowableClosedloopError(0, 50, 0)\n",
    "    talon.config_kP(0, 0.5, 0)\n",
    "    talon.config_kI(0, .00, 0)\n",
    "    talon.config_kD(0, 10, 0)\n",
    "    state.talon = talon\n",
    "    state.t1 = False\n",
    "    '''\n",
    "    #state.talon.set(ctre.ControlMode.MotionMagic, int(inch_to_meter(30) / sim.sprocket_radius_m * 4096 / (2 * math.pi)))\n",
    "    \n",
    "def pid_periodic(state):\n",
    "    enc_pos = int(state.x / sim.sprocket_radius_m * 4096 / (2 * math.pi))\n",
    "    enc_vel = int(state.velocity_mps / sim.sprocket_radius_m * 4096 / (2 * math.pi))\n",
    "    hal_data['CAN'][1]['quad_position'] = enc_pos\n",
    "    hal_data['CAN'][1]['quad_velocity'] = enc_vel\n",
    "    #state.talon._calculate_1ms()\n",
    "    #state.motor.set(state.talon.hal_data['value'])\n",
    "def periodic(state):\n",
    "    state.motor.set(1)\n",
    "    return\n",
    "    if not state.t1 and state.timer.get() >= 4:\n",
    "        state.t1 = True\n",
    "        state.talon.set(ctre.ControlMode.MotionMagic, int(inch_to_meter(10) / sim.sprocket_radius_m * 4096 / (2 * math.pi)))\n",
    "    pass\n",
    "\n",
    "\n",
    "sim = ElevatorSimulation(\n",
    "    starting_position_m=inch_to_meter(10),\n",
    "    max_height_m=inch_to_meter(72),\n",
    "    sprocket_radius_m=inch_to_meter(2.12),\n",
    "    robot_mass_kg=lbs_to_kg(154),\n",
    "    stage1_mass_kg=lbs_to_kg(16),\n",
    "    stage2_mass_kg=lbs_to_kg(0.0),\n",
    "    stage3_mass_kg=lbs_to_kg(0.0),\n",
    "    stage1_counterweighting_n=lbs_to_N(.0),\n",
    "    stage2_counterweighting_n=lbs_to_N(0.0),\n",
    "    friction_force_N=225,\n",
    "    pulls_down = False,\n",
    "    init=init,\n",
    "    battery_voltage=12.3,\n",
    "    periodic=periodic,\n",
    "    #pid_periodic=pid_periodic,\n",
    "    pid_sample_rate_s=0.001,\n",
    "    gearbox_efficiency=0.55,\n",
    "    motor_system=motors.MotorSystem(motor=motors.bag, motor_count=4, gearing_ratio=50),\n",
    "    dt_s=0.0001,\n",
    ")"
   ]
  },
  {
   "cell_type": "code",
   "execution_count": 42,
   "metadata": {},
   "outputs": [
    {
     "data": {
      "image/png": "[encoded data removed]",
      "text/plain": [
       "<matplotlib.figure.Figure at 0x7f95c11fb320>"
      ]
     },
     "metadata": {},
     "output_type": "display_data"
    },
    {
     "data": {
      "image/png": "[encoded data removed]",
      "text/plain": [
       "<matplotlib.figure.Figure at 0x7f95c1177f60>"
      ]
     },
     "metadata": {},
     "output_type": "display_data"
    },
    {
     "data": {
      "image/png": "[encoded data removed]",
      "text/plain": [
       "<matplotlib.figure.Figure at 0x7f95c1169d30>"
      ]
     },
     "metadata": {},
     "output_type": "display_data"
    },
    {
     "data": {
      "image/png": "[encoded data removed]",
      "text/plain": [
       "<matplotlib.figure.Figure at 0x7f95c15ec518>"
      ]
     },
     "metadata": {},
     "output_type": "display_data"
    },
    {
     "name": "stdout",
     "output_type": "stream",
     "text": [
      "20.076784333\n"
     ]
    }
   ],
   "source": [
    "sim.run_lift_sim(timeout=2)\n",
    "#sim.write_csv(\"wat.csv\")\n",
    "plot_position(sim)\n",
    "plot_current(sim)\n",
    "plot_voltage(sim)\n",
    "plot_velocity(sim)\n",
    "print (numpy.median(sim.vs) /sim.sprocket_radius_m)"
   ]
  },
  {
   "cell_type": "code",
   "execution_count": 52,
   "metadata": {},
   "outputs": [
    {
     "name": "stdout",
     "output_type": "stream",
     "text": [
      "250 241 60497\n"
     ]
    },
    {
     "data": {
      "text/html": [
       "<video width=\"432\" height=\"288\" controls autoplay loop>\n",
       "  <source type=\"video/mp4\" src=\"data:video/mp4;base64,AAAAHGZ0eXBNNFYgAAACAGlzb21pc28yYXZjMQAAAAhmcmVlAAA3kG1kYXQAAAKuBgX//6rcRem9\n",
       "5tlIt5Ys2CDZI+7veDI2NCAtIGNvcmUgMTQ4IHIyNzY4IGQzMmQ3YmYgLSBILjI2NC9NUEVHLTQg\n",
       "QVZDIGNvZGVjIC0gQ29weWxlZnQgMjAwMy0yMDE3IC0gaHR0cDovL3d3dy52aWRlb2xhbi5vcmcv\n",
       "eDI2NC5odG1sIC0gb3B0aW9uczogY2FiYWM9MSByZWY9MyBkZWJsb2NrPTE6MDowIGFuYWx5c2U9\n",
       "MHgzOjB4MTEzIG1lPWhleCBzdWJtZT03IHBzeT0xIHBzeV9yZD0xLjAwOjAuMDAgbWl4ZWRfcmVm\n",
       "PTEgbWVfcmFuZ2U9MTYgY2hyb21hX21lPTEgdHJlbGxpcz0xIDh4OGRjdD0xIGNxbT0wIGRlYWR6\n",
       "b25lPTIxLDExIGZhc3RfcHNraXA9MSBjaHJvbWFfcXBfb2Zmc2V0PS0yIHRocmVhZHM9NiBsb29r\n",
       "YWhlYWRfdGhyZWFkcz0xIHNsaWNlZF90aHJlYWRzPTAgbnI9MCBkZWNpbWF0ZT0xIGludGVybGFj\n",
       "ZWQ9MCBibHVyYXlfY29tcGF0PTAgY29uc3RyYWluZWRfaW50cmE9MCBiZnJhbWVzPTMgYl9weXJh\n",
       "bWlkPTIgYl9hZGFwdD0xIGJfYmlhcz0wIGRpcmVjdD0xIHdlaWdodGI9MSBvcGVuX2dvcD0wIHdl\n",
       "aWdodHA9MiBrZXlpbnQ9MjUwIGtleWludF9taW49MjAgc2NlbmVjdXQ9NDAgaW50cmFfcmVmcmVz\n",
       "aD0wIHJjX2xvb2thaGVhZD00MCByYz1jcmYgbWJ0cmVlPTEgY3JmPTIzLjAgcWNvbXA9MC42MCBx\n",
       "cG1pbj0wIHFwbWF4PTY5IHFwc3RlcD00IGlwX3JhdGlvPTEuNDAgYXE9MToxLjAwAIAAAAj1ZYiE\n",
       "ADf//vbw/gU2O5jQlxHN6J0zH78VuLo0N73OAAADAAA33OZE/sqTBubAAALzSqGPm84MwENzD1L5\n",
       "aKArUGV9qBRrsdrnMGE13zr/0XDKTPtt5zYtQziIfPYSyLGMEqZD81GNUzBocOAmwy0/jjptTbZX\n",
       "ADM9H87pSnmkVXmCPbzGKl3TBFSfJGl8SQDo+TLol14y6O158gHrV7/T35N2dfQ0yRXWss+EkkGz\n",
       "ihH3VyHhCOTlzH3XTWy4/fYp9aWX2X5fTXP7b3e+GQXsz9ZdAHM5038VUiBz4jDDS47wAFRVk6L9\n",
       "tjD821LIulLLr7sNVZENqDjV73zvwdGEQ/b28k1bKYuDX0m+LxP25rCoHF6UNtCewOfUAAAXjazb\n",
       "fn6OG4KtIma0Y/vGSyidbj8s6bYB4IFglhh7oPq8Vmkz6MFkd6EPkyzF+yAP5A86l7QaZyH7ku2q\n",
       "XqmOkeY/7XzMZzO/8QYsIk0SHF5y/pgnhg0kb/As4QZrIvKGpAqX2DS90m7rgAHrmwg8vnbVFA1L\n",
       "CymOV9YcCpDDzcX/xleo9hRqT1w9JIWu7hTHrUS8lJaW+mbWPkJBGhTSDzrz7I/YEJEwu3PuE86h\n",
       "TDBvtbuGUKlB3mHbPK3F/n8TM07mJcFeGlWsY38AcHa2jBZkARLnBt/3KiD/eQrh59OzSvfgvRY7\n",
       "OFI/DuCeN9U4NluI/XvtKsaEI1dblsqV5xclYIZb3nAeQKsI/zWFtH8V8p6wN1EuqaBxT/uCQAmG\n",
       "+/ORUsK4I7567/314vC5PQtw3fbqMC3s4QYjZZzNmyrp16JTIFnDCEmb8MrKAe96r8+6pAySOuWE\n",
       "P5kcVK123OPFOKZM9g8tvbQWCAIkWBBeXNR4niARRj+1pFRfD7me3S+pykMjBNjwoAsxiHbU8z7F\n",
       "DIY/9fKlDRsmmEkfdUFbrGyn9sj75orR0Ok4HximU6u2em4CCtciYThFycbS1IM6eelL+oBOGwgP\n",
       "X4aQB7KCnfWqt4zcptw4B6fZCpEj1eIZPbN7zvwA/8285wdir86ql7ZtBKpkdJa+C6/fT9v/Jc+j\n",
       "r2spWBR2tzbheH4yM7y/c0Q8cf9b1q5KqNMAG19OZJ5Ca/XqftHiPXfkwJB7YMKmbG8EkUFUJO0y\n",
       "e84+BXPSq93I4N/gBMczBzGpYCg668Ih030w3suXaygtePp2QY8skqHck7CUgESBZ2L3+zPVmZ9v\n",
       "alGNEaQkUXsliF8Pb7qAAALentlLceIdbRs21VCPkxdo4ia4ho0jawFZiSNXkavxPkVOwMyAH1Of\n",
       "IPiIh/C++CkqKvFRbv7PvFVLcoJyVw/EtSSyiMUNhhE+2vKbZCNGJYBzdNi3//oQC7UxKn4ximDh\n",
       "AW8fyikhQGVsOEHzB5uGw3K/qi1ilFJkOqXjsO1yhYphnVNtxkJxzuu7MtxZL9YONtG8nWbRrCkP\n",
       "fqj4Tugqg1RBVPwyvbtKkzMrEtn6PXRE9hpnahKP7mldq/kVDW3I5wHGiaFGTsAADKiu7APDJniN\n",
       "eADnbXJJCsSIWnXEB5st915/9lhEFZtuCYepJ2WNwLViFEkJI5osraWqmt34ACRWVfMQARh7t1ux\n",
       "7W2G40AUzW3t1ny89oAzatGViu+NPeQkIknuODqrf9H4NYxgy7/hGDc7HHIF8tITuVWw52CyKa/f\n",
       "zNvWaYsEIFHiZ84y7QwG/va8FAaspdYgBIIpq/xGSVeb55q0gMHPmf/jui5Y6iNfsRhzgLFoznaZ\n",
       "tH5TBgmRJJWTGuKfSbTb5+EQkzIjdDWo1WI8L0PC7EHlDTVZuANnbqY4Cg6XPl8BhZAMWg25fzZB\n",
       "rER6Oj30AlYTx8mW33KaKCPiVv5rsXvlOCN7EDY8CubBB/I+oWy4FWw5ab2ZROv//N/k80COokhj\n",
       "JJf+jo3RGYK4Y11UUP7n+mfIqxK3HwWx1vjw67Ne4wT3thfpOHmbMmF4xK675DzWj59MJJqy+7Cx\n",
       "tjW2ApbE+Tgm+6jSq33Fp3480UGOqfcdzsPjJD4xAY9NaUzrpXNy9imPi1DPyZFeG9ym0FAHr0s8\n",
       "W5eZmrA6yfZXAE8qRoQS+yu6hJJxE4A+s29+4sW059LDGC0GYsy6aGVXXPTbfhdB84VKcjUjsaPk\n",
       "hHFe9pOzt5z/pmk21+5qef/h/3ZHH4zRSykcJa/z7zaKaHNmKDF1ydzR/1IzOX5GDEFJ1ucop4dF\n",
       "G9KZxcl0gX8pIbFo4xWn7HGvO5HUv0p0jUkkvSX3wjS9ylCu5Kv0BHQk2YjWIuPqZDcBP+QrsDnd\n",
       "T11Arb7+Sxd4UruAH6Ko27ooyuPDNAmmGQ/w/yc5Pnzz6vyw7/3sJ/dWnABVW2LGKAi3hurH44BK\n",
       "XtwbXM/VFWVZbPM0M8e5dzOD0v/JyvQutV28Osr3cZZPSSHCFhwgZipuXfw3sJc9TygQFstm040F\n",
       "H91VDLGLjUxv0nYhrKG4ClI4+K0vmeZ3k0C1ulIQr9duuAGoMxne8s6hHCGmx2+K7RMYkvm4ye8p\n",
       "SY1hZHW5eg8xM9vgCtnTn9xGXoARo6lsO+a83p4ZSMgyMvkR2KKiC7pns7eS9CxLa7DTqn1Gt8ws\n",
       "QSYOmAQNx7D9U3cnt0/682+DnGXwawnCr8+7yZgaQrW1htoN47eAVY1QC0Sd3o//mAH0FcaVHNQN\n",
       "JNrWN1vyPQciRBkP0Xtm9drm701TocB+QR6Qd4S/OXeJ93qvOg4IQEONB6pLuJPqTFiQeHmY9aGC\n",
       "Xt5kPKa2HKJjfFjyy6/u0ZgbKLoCbnRR4CBcRzrkIx4vLk/aaGTeBBj6Whi0ZGj9SXn6Md20tlbw\n",
       "YUTVrGRxAaAVg6Z4dDZCmKqE0H+MGyNtslI9qjDSgNe9nPF0vaZT6UmWcU53bYzo+oSQHZeaKTV6\n",
       "lP0Ed7Xeocw0lGhoqzyG3vsFUn+lvtMBOqtAo4Qcgn1/9ulKUKKCFmNt4FnjKbmPIegv0HFgXD2O\n",
       "p2oqjInFjzeELDG1giA54H6tfRlnVJZoAUOEoe9eUc3FHY8UYQTzdotKbjnyAczxukDN5tdA6IAH\n",
       "mzVqGxHnkHYtdwAAAU5BmiFsQ3/+p4QA/LoH0BBRl3V+jeYIf2GquBMVGvbXTrTez/skz4N/Mw1+\n",
       "qKtMAvue2plBlmTzI9I30eqh/DK0SnfE7EtXu3AFKKQTWVZy1sPzKetRjGfQfjpOA1EIJQk7hqrv\n",
       "KmBoXOIrXeqoKz+lgrxtDU97bjK/MN0gOK7t7OjTF16Huk0qK8/9vwOI42tjWKZMll1RAFHJBTIq\n",
       "gQqiTpERl3fHkYDOqn7GVJ1xymyjacVaeD/k9X8paE4eagn/ArRuCki2TO5kw6RAUVxJ0EvVD1dZ\n",
       "oY8czz3BVgZgNAOkOraE/sogCcoTX6iD/nyZZGqXLnCn/P7RkYfxtBugJ4cyjDpzUGNWMg6d7J9h\n",
       "QtRPptvpywMoE4CG+179pJesQ1orVU2rcu3k885hjUbzDv2Ut6LV1fd+ItACic/yIjD/0tbggoq4\n",
       "FdC9CEaAAAAA5UGaQjwhkymEN//+p4QAADYNz9cbxFjbhK4+V6nggAAH4zP/VwASfZg9gOx7cQsb\n",
       "aYk2g/CT4WUHQinRx70yMlPJvoDBLa1Fg1WvwgxzDM/zMZRz/8OszJqTsWvf6S/3rcBNHcGOrljs\n",
       "//A5ALuVNjQc4mhtRg/zILYGhSZQ3DFbH+cHtmMGBxKH+Z/bOG5xYFFZpAQmqX+hrHlNkV0P0c35\n",
       "Rf9GNabRhvyLPj/cbNFlwKrK1mRJkPNzAeWpceaW2bwc6Om3m2JSDAuPDGes3uwouG2rMJ0Fc3rK\n",
       "314t16tbjZT0NV0AAAD8QZpjSeEPJlMCG//+p4QAADX0ulaQA3YKThsNVNhZGbAFDeiLteeySia6\n",
       "d4MFuPfLz8xzWSB2+W5G0lV8sGzgBZplnkZnqk/hVnoYYwELneTQiJ1wNsnlWXfcH7qE6xInbfZh\n",
       "qscJutCjHE+IDVgSwyKu5bK57MVZPAKDmipP+AVV2D/AtiwMB8JEY8d3tEdCg5HIC8Bve8t6oaSY\n",
       "c8OCepGcNQcCyK8z5pwqK0ezDcbSkp5icQMkZigT2NfB5+57nIkcXf4b8veWLbo/v++8WhNTFL3J\n",
       "xnVEg4ug6mZ+u5vVzwhX38uiQes7Fp8hcZkCyzasH9Y690hJpBEPAAABFUGahEnhDyZTAhv//qeE\n",
       "AAA1+HL3kgBux1mMMPp8uo8cb4G1qfyDo4X7SqZQlTuLz+TcUFeOOueiCHbOn94Y8I4AuTsInQks\n",
       "4IUbygqKhppuUyhc6u16oAAAAwG+VJwn3Kzi/zZ6VH/lg/JRHvIPhiu+ScZl+63i25/+B6ypt48a\n",
       "6K9hkcPSvCQWog1YUd5H68qepWN1Rf3ABzyRjpgjkapa11ZPGUhwAAkZ/Ot2+fBJuV2fNsXyALh8\n",
       "FUpNGSpz560bWJxpj6wA4MAQQxziYwbKIy7net1VK1nPoxsOMKK+Ellm2BKHj5VEiRtWzj2dQVmx\n",
       "IBQqz9egje5ci9E0De/1l8ppytQwwnuiWAmvG2Q3bz9ZkHEAAAEeQZqlSeEPJlMCG//+p4QAADX0\n",
       "u1uAC6jXVzU5/G5GkyMG73q/xk1aVgXoT2ka4CMH8b4LteeySia6d4MFuPfLz8xzVk/4j2ARAGa9\n",
       "PrbCQntUUjPWQBNXr0devUF6emNtNUDtXJHxrjpOeBJay+OWZzICFGY5rQLt28xA7/CUxvWHn39a\n",
       "VyXBaZQy3xu+OEjEt5xp/gV24HftBAi9CP0Yplc0S4Smlo8Mhi93jTW6SS6Bz5oBAYBefOztrpI4\n",
       "wNCoR/5lDrLPfQkXgFU/BmYwvZOiv/Kl1FwqWrsOCtbeuv6FLshEilBljA+tQNZspD0x4Ykc3ziI\n",
       "83vc/QBac1tisk8qq5OqkRxPtASnMV9U4Zo3X+iRNIdTrkFwfxjjdwAAAThBmsZJ4Q8mUwIb//6n\n",
       "hAAANfSuEUAF1U79iFxnjNvoyLn/2sG9D3U6eqFgvlOm6YtanqljbBn0Ek+U2Co4TcazZniLpRPs\n",
       "9rGai3Gmt5aWmwGPn9UmwwKK4/Q+zjMgA0NvKl95gHmAAAADA3bqNHi7qp/Ub5y5aKvhHtgRQEtU\n",
       "jKYNI+wY6mbHBY4OKfqcBBHMRoITtWYc70uPlAVr4ongB5wqfgc9CHLj/8D1xgaxLUnoiCIMg66D\n",
       "QWob24UmW3qGg4rmwvGI2AAlbax1PxU4vjOD5J5TzmgAR9vx8/wtGmMeIizng0gCzzDeRTNRiXoZ\n",
       "dGKizTr5qbEizr0m4iGbXKkGAN+A7GgsR6qHPyxg3mCwYFJmDwjquybjMzidk6fR18Rip3wiO8Ix\n",
       "GDTJe83z/PTwG+dpnLMAAAEbQZrnSeEPJlMCG//+p4QAADYr+v+soALqs9S9fMnFPxNt3bvlxrpI\n",
       "YYYrBfFQ/GP0NE/DrhHUkRtgpiGlNRO+wh3Y1cK1v97i/xMh56Qhfr5Y8HDoPe1z+X68bENGAviK\n",
       "tp/a2vQYg7EG9Z/DCiEjFjb1qUdKYBp+WWxHKWvAOLD3KwvJ78rcWTj2o//riE9DnND16fr/+Bfc\n",
       "rFHbJhX0TyWOCT7t450oDRn051LCLzP/weg3wAItRmaJRaxhYJGUeVCiWAKLDiyERlIiGE+SINnM\n",
       "AhZN5ZKqLPYleV2wCkXRw3SzcCrNZXutsUhyM194gfy+PFhoUFdYObaCkneYxfhFvgkTNU2+6FOr\n",
       "DJ55sLqxWAhPAWgjx1b7OwAAAWdBmwhJ4Q8mUwIb//6nhAAANjr35GRzt4AFpyMz9Iqps57oPd/X\n",
       "CP2G6GKM7mcyNCOG2xY+P3m0guB14XIJDoJ3EJR7U2Npc9H/+BAorkOWoNggwmFPbjwmYyRAG69R\n",
       "NZTmX+w1AEJL5UXv7msUvaEYbnnr4i4WpB+JIjaN2Rj7qqqWGwzia/6/w7CygGhvzq+nGKDvbMX5\n",
       "kzm0B9Yz8NOavL7Epzkv+Z841qcjhf7UPQ+kdYgUmSYXi5KhnUIYagXbIndLOLtdifkVo/Bt4tfn\n",
       "ehX+Sd95yjUE47XGiNRdGxCfCjXBU5c9Xiisu2MULu8WrMPil9/U+naMCVfw2PcY0Gn4yT57DvkM\n",
       "gJWUIlXq6mdIQCKR++s0ZAwoLcM2koYV9AVsqzg1tcaSfnKaYPXb248tlmP87FFUAYc5cocDa7Mo\n",
       "OtrQFJKVwfDV75LE42EKgdWQ0i11Hx5cYvMePsrK7zaPMuPiqAAAATtBmylJ4Q8mUwIb//6nhAAA\n",
       "NiSPW4EALS55xb2vtCiIzd/5i2j9fyObNtOees5bfHPkr3lG2KmMDz8Yaym6cVQNgKjGSipRb4FJ\n",
       "Mrfm1slveDtzHgFmohZAo1BzYlspbhCcsytNx7G932C8iqMdhmibbHnxGziOJI75bGS52WsrvRJk\n",
       "X4VKriiy3I1ejWhMmGWIvEbAvXcSmE5X1aOK3U36fHnmnB5NsYi4XiibwKZHsfy1VcEalkffbHHg\n",
       "SupFWtqC+2JSf/ArmlWSKmNeC3mUORMCD0QGoXIO97RluI7qS+EkWBJT/2h2iV6sTYH0BYBYpcN8\n",
       "dOjiSEAWNtKYAv1z3Wwd1PEADYGPJOskGg5UNp4s6L2HvnKfuR6BlbjG9amYTLflRyhXng6bmKYZ\n",
       "zAnllg8471mALU/ecrYAAAEpQZtKSeEPJlMCG//+p4QAADX0rhFABxvcjMFy79es6JOF88IPpUj9\n",
       "gDGiQylYbcrtaoEFtxVqEqdxefybigrxx1z0QQ7Z0/JmoPUPfcWf3tHioSh3WbBWgRwcuL0ArGVI\n",
       "0QBuTCakKcIZq7ZmpF8LzswpHWxBiJ2jNN/lM3LTyLJvjQ2mnGmhYQLiWGRD6hTFvva3kwMubdgt\n",
       "CUi9kTDWa3cMU63i6GrHRkFvtlfKzkfhEyRL/wLQATTY+Z5snFAm0AbetirJjrkEAp2pnCQxkYuB\n",
       "sj8D4WN3oex7kxOmG/nk2IqD9WDLkAiNr4t7RWMDoCiAISl4FLGfbIN/xyL15zlufNDWAk9V09Ug\n",
       "g4CMmCgjaF1VnNs0ef9IiY7s3tIr13vlIQbW7ythAAABR0Gba0nhDyZTAhv//qeEAAA16Sufms1A\n",
       "JkEAHG8wto6KInH4DP6TkcYnvwCVZUXgBxgj9hdjA99Ie5IjbBn0Ek+U2Co4TcazZniLpKe1nuri\n",
       "83y7orui/DOzZio6AyPnA/ggh703yIzV45Nceldu712tb9sz2x+1A/wpmCNVddmRAfNJOkw6QNgE\n",
       "SoB5Imm7wnQafBymKmUMI2kJEpRhx+YAYGioQfohQeY2NJAV26RpQ22hDRR2qtSHt/ywBe0udG5O\n",
       "9JpI8/+BOOvgoir0pQojlxh7EZk4FWaDt3sxL8dddPFdcV/7zk3imT8NhoJ8qlQgmzU0rsWei55y\n",
       "4se2Qizxm+0jpo6IGm0E9ewG6AWjdWMCMbPU+k75F5HoPVkVzBrgBYR1/Xx+IJlOXK2PzwgQrGM5\n",
       "cOsuj7hqfTN2Voyk7Ohia+GBGgAAASBBm4xJ4Q8mUwIb//6nhAAANiR4hmIAWsEJO8yyJaG8RCza\n",
       "s5olF4PkPp2swBO0PznxW9hAUIqOfMyf1HCZ3Y0EPiYWqTSrETESnPGpnO9lIhB7q+PFeWRMC1IX\n",
       "balWfveEAGCTPyQh1+H9xjsDPAdLO2tbbX1rx5WutzjLzpCBk3SXezpjQOdpxPBZNXsZVSL/AtOc\n",
       "QQxIjBG1LQ+HTqQSFyGEYq3KNMwyDzWZmSn3AINhPAPiQCo+nDeAOtekHOE5W7FszAnNb+mUGkb+\n",
       "oQkEcCUds4eAq/s0HdzL6mgJffBZZnm93ORa7T5YezZoyIuyt1InsEsQLUIKEhjVXJguAx4lqiRh\n",
       "UBFb6vHSohDIc7rzLLZofGVY5ZFd0qeVHaAAAAEuQZutSeEPJlMCG//+p4QAADX0rhFABO3uSUTF\n",
       "5Bnp84X9f0uon5oqR32PZ8UrnuRZPbNAp+hvaQwQ4yhKncXn8m4oK8cdc9EEO2dPyZl/Rw3golvQ\n",
       "fq8ASgkIQB0q2dlNgshTBaPBg7R8jqy/UUgRa5D5ynLdEHHLL6upPBBYMuhcKGJ7aUdFJqE+nLHp\n",
       "UnuNblJ/ysPS1Xcn2wUm0ne/vntIejtSeU99jV9pjraogghJRGNG72u7CH+ByOJ6slwkrKlspaPj\n",
       "YUKhSa8exITgr7UJY0JGrPcAbyo0LiV1l57L/A447W96kg362IIxWIw8/4lU3WABgoJ8Bw9YeHun\n",
       "6KYfBYre8dOCD9I4Jsd/PWwah9W0eJmWI0wMWC6cZyTsPs8igDvlNpnx7SENIaEAAAENQZvOSeEP\n",
       "JlMCG//+p4QAAGvhQAEwAcSDiJoWjO5TSWYpqfDY3HjMlggKTERzTxcw2FYwS/w6T+hvKXnJ6eU0\n",
       "3iwEQGPdNektOs6mlipDYMEIoETIfOCjmqkSRUNy69hzgyDgluc8OHQgFTq7tMPnGzmvl3gX9ANh\n",
       "mzO6qlEjs1bCCsEx88Rq2ujN14naxT5sT+g58LTejeEufKBmzQw7O2S1S2aCO1LtGN59RaLS7GL6\n",
       "jua0OVVNKtqvayHSJmTtLNOYrX2Ph/99vMhUMpoLSfD2Pf8LbXZLCVws0m9AvO4OFY0//8f/t4o9\n",
       "E8iBpPcUX+Ihz88ftns/o+aXaPGbWxFFLzHKfos4lrvlU3sAAADmQZvvSeEPJlMCG//+p4QAAGvp\n",
       "H2ThX3IbF7qjuqHV2wa1tc/NZhhwntVVgPvE9+AHG8kVlwc+jaFmDxMtSFVVXt/ChHqOxJd5fP3b\n",
       "GBV8gSF5D77lorwmMT/bUrPgDY05HardOp5Pf+KZ+iUX7DZ0NtxCnsUNHDo/Lk8MjJ9XX6NTD5uV\n",
       "HpIj5/VjBYG/OVmhVlodFYNDsE7xQ9BLvl/elEC/Y2UgBpa+L2X+mJXgJWbwacfOtaKZSL3HS/jD\n",
       "a3M6jxph57rCm/M903NRfwkMU/uuLt1nXbdalVd34oIm4ghmejkyQcEAAADyQZoQSeEPJlMCG//+\n",
       "p4QAAGvumvDQBqHGmW36zfif3eqWNsGfQST5TYKjhNxrNmeIulBEaGX3mEHECz0M/XY7m4+R6diL\n",
       "3XiSBaWRuzZRl5xbhUURPFHBHlgH5QTUrJ5HbSm166m/TMoQbMUxdZ93hRSYJxLBD3abBoqpCAQ5\n",
       "9X7qvkiuNmah03CPo94yWfXfzfKAJg+3RjHSl6m7AEDYh++EwEqB0WDtvMMjd0rC6A25GCcf8Vvp\n",
       "CYspRA5feifsIWJt/s3ceEF112oHqnIOR2RJF3jczTmMY7QGYtUbIAaQTWd7rsSOq2FjdcpVPWpl\n",
       "p2AAAADaQZoxSeEPJlMCG//+p4QAAGvw4WdSAmbe2gLDZSchm9cYs5C9fgAjXcWcxs0/szxglQGT\n",
       "jqHpZMNXaTOXOUKzrd/bcbcT5V0mOwhOkKA49GWs/LanJ+5+6bAgm+ninznf6HlzTAYIFARL9FXp\n",
       "cK7ZnSSTDQjx8huOXrzDKkhalwlGZ5BG/Zwgm2t9xCf05yILaRlIiT5iWqQxNVlOCChVvrMl/ZOT\n",
       "awV9OkKWtrgOWvfpmu/++JmV/2q81BHmwiovtwqEGLeI438qZm4XDG3HnbETr8VEVztnfygAAAD3\n",
       "QZpSSeEPJlMCG//+p4QAAGvpHrwgGiZN7URtgz6CSfKbBUcJuNZszxF0lqrjhKbGUBeRnam48owr\n",
       "kPmKnuZikvviE1x0H3b8ZB/nBuvsjoa+7y2eIXKMHq0xaiTMD26EOctlTgFZIFrCsEaU7KjfNX55\n",
       "8e91cgWI7idq8+WcGKimMJMOn7ypj+v8E3r3Ffve1/JDipy9AbdKTFGk9NlJneC+xmXyBA3/9+93\n",
       "6/QaXr5lZT3NrpAHHiADxhwJKMzdbDWGy7tkE+kGXTn/+LGC73F9YQLNR7hiVdw49InBjSTwVVRb\n",
       "S4Kwe/IW7RKKNSXGJtcaIoHgtQAAARRBmnNJ4Q8mUwIb//6nhAAAa/DhZGgCK5Y9abZ9yRG2DPoJ\n",
       "J8psFRwm41mzPEXSUWRTvfpL8o6uVhBMNphTpAGl9PQQICqoVEpzFmnjJjnue60fAozyuy8wHe/8\n",
       "5i2KlNLkJhN7WzXyF8fx2rE54HTVGNgVxleUacuMVTdgiqwNfKaE1FJeY39MlGWw+DTDIi/Y+qXa\n",
       "6CZP48SAMhYVhGSwVYiE9kRiukth9bFM9FK75MeyL2ikTyKHs+KkIm0KAU6hEWG6+zuHHSHE4DqR\n",
       "b/YkDGvPA7giQBC0Q/zdGcG4ASrBp84DnlQvHK4hFyv+CE5fOgPpZxPP2W5t53S2PfPTnUEgQAHz\n",
       "DgOCT88maxwNTY9SqTsAAAENQZqUSeEPJlMCG//+p4QAAGwopNRuOgFjDvj3aDuN2IGf0AAAAwAA\n",
       "AwAvqDMpgoZh340LDfM1nYdhZl70x//iMIz0+OtbXVHCD4oSFSBepaTIvhrOGmPT3C0z5bX11RiD\n",
       "go1qeFqYmz3qnO715mmDQq1ap22+vG0gvx5WN+0JBbFsOwizUOtY8A8pLIuUDqvx3Rm8cn433lvg\n",
       "KGHlimIdB4mE7jHzkDphxMMTKOfwL5ZTZ0oXSo+6GovcDYc6R2c89Ll8D2rrghgP1YG662V6em/g\n",
       "3IguQnS/90BcHMf0nkX1Y3KXKKoVzCcgDR6/kSWwZdM2VESkeND7fzVSmMlVOJ0GNSwn9+HkObPP\n",
       "ZWAAAAEnQZq1SeEPJlMCG//+p4QAAGxHEkdAE1Ay9XkI5oJAoPgHupIjbBTENKaid9hDuxq4Vrf7\n",
       "2vP/Qh/3KrnyGFriMFl+3ElxC9b95KI1+cL8kBnay4K3KUtf/MmRCW0n9fP3UGcJG+7JFndoPmc4\n",
       "vy/yiWZc9BqsxEUzcPcVMywsrhLmc0/whmpVcHxERF4J74E5EVSMw1Dxzki1I28bfjW8bjWO6w4F\n",
       "FFX4IBms9ML0kv2Vae0kHvk1hxGokMRd7d/WoMyq/SGGEIV+eARwbdvOhzvCUozoQnC1iO/HrgdN\n",
       "R9UrDKvHs64PErVE00+e4a8dXJAsc1G+/o0vmx+etSj3xNLil7c8B8erb3WH9RiQ+zJUcjN+yHU0\n",
       "4z+ZdJvUb1SaCEe/C1MtOwAAAKxBmtZJ4Q8mUwIb//6nhAAAa+MlwBuEHDLzb/jqMAaNZzpfmFmt\n",
       "/29fTTTG1MJ5DVVZo600lYVFhxG9qI2wZ9BJPlNgqOE3Gs2Z4i6RwGCn8VVnxTD74BJ2NRFg4oyv\n",
       "kuR3WlZo71aX5eeaj5JKFra+puIxLUyLDpmGFRlOb8/FnYq8ziEAyCGtBq62jbztTvHK6i1+M85t\n",
       "g0FKBuCXbUqwZphYl/9aILsPpwLoAAABEEGa90nhDyZTAh3//qmWAAA2WT+lYUMsd5K0B7C+5IgF\n",
       "g3guHJsAgF6mLHPLlSxb8WtWQH/GIENBmN07woTS+JlLC72YJtFlgUuNFNZ09lDyOnusI/qIPoNj\n",
       "gf0EDNQIBqeVBTJuX6F7KXXd102sG2ekXqrw/DaTuF42I1XwPfd4b12ynWvOYsV3sg4QXPLJJHzF\n",
       "1n5UYZfMoXW7qWaVJl3Uo1C+Nxl41aeRLiCEIHfvVQPDxC0gBvZhAUc8dUsFSy2nn8yvS7Hu5M+X\n",
       "F7lSXHyKLonmBUFf5UoyW5XJE9TlTsoUqI9FLOy4rPCeov/PY4SrvPDiAwxZbSV2evpUKs6eSWCD\n",
       "W/v6ix9SzVs/7G2tAAABNEGbGEnhDyZTAh3//qmWAAA2WCQRIB/ZAsrt+dkI82OMbhe1zd9dBphU\n",
       "SXXYPiOR7VmT/ymPphC6z0ls0gpxBEjaenCVdqYWjtq3RB7nsRf/4RsAXmzvtKEqQooF0HmioONa\n",
       "917m7XDTTGhiPXVvWw459+Lll+mpO7WjNRHjaRhU9Crh1dF+YIt/AqkgyQER05iHTgH1uOboU75R\n",
       "wmYQvpYgqofjYVmvlNBFKeuDZT0tUgduSL9gjuEpqmV3B2fpY3mtAJC+a9OdxZ3BY2kjMvhmH74u\n",
       "TWzyqKrM6mZ+uQzQoOc/M6AW3FDQtEAqt7mJhPMYCThnTMtmnwMNaw0VXnpkA3vDc9Cp7Eez8ONQ\n",
       "mDrPs5NsZOzeWz4Dnv3uYCJ6MHrV1P/Hnf9eUwnZH7b9ibPCza3PAAAA2UGbOknhDyZTBRE8P//+\n",
       "qZYAABtB/4SQA5o016xrmsLPjOeyJdzJztkM/QTkv7TrTfR2iDSVi+RcynkVA5kukrSRC8M8f5He\n",
       "Ifi1fM2yzN/iD3twaVMBFsdo/NTGRdujpfjQbt63rq5e/p9RLMjId8KNfeq9vvSWQ1+HwaYv3ySl\n",
       "CZ44J5pPTWut3ozA5hHrwATnSNxbKCzO9GD6sXnl09rgo6rbe04k7ZxUUieUyjGP7am+bJREMxdM\n",
       "6/+k4yB70bgCv8NuGscYiwfwOEb47Kz0L9TV/VHYb0AAAAAoAZ9ZakK/AAAsTROR9OivXHgAAJtU\n",
       "dAKHWwAIpCnSNPsxvz6b8EZvPwAAALhBm15J4Q8mUwIf//6plgAANlVFjUAbPFBjSQQd7atN96AP\n",
       "w05w78jUlVgh+MpQiQwaJJeVLe7K+FGm0aJQpRyWnz9cS9Lf6eonNwIk2KDN6d4JkoM1jgBP/3Za\n",
       "+u3Xevmhn1Ob+4Hfbf8dhDDalTOXsSe9fm/2dDo/P2vXPJqVTY77Ciufzt8lO2ZaJkQOEpyO77ap\n",
       "m07FkNyCne2bM6PGMYaP6LsIK9ZtzBGD/Q9pMQq2k+dUs+JwAAAAMkGffEURPDP/AAAvvwH1d/nQ\n",
       "VVo6AAYDmfyiALtmrDakjMS7xYpb7ZwBulg47420JWX3AAAAHgGfm3RCvwAAWJLYoKk9ZysZQAAA\n",
       "Ydzapmn+itYY8QAAABgBn51qQr8AACs17lRjGJ146ndSoD84nX8AAAA8QZuCSahBaJlMCH///qmW\n",
       "AAAai5giISYwwMyDHLlOCw1gSsBX9cCSjItqmbmLN44vBlAIl6n8SMuxlZA4AAAAHkGfoEURLDP/\n",
       "AAAXRQX0cDR7LY/CAB6oalWIeGoEgQAAABwBn990Qr8AACspbFBUnrOVjKAABM+qmYIYgTZQAAAA\n",
       "CwGfwWpCvwAAAwGLAAAAFUGbxkmoQWyZTAh///6plgAAAwDwgAAAAA5Bn+RFFSwz/wAAAwDUgQAA\n",
       "AAsBngN0Qr8AAAMBiwAAAAsBngVqQr8AAAMBiwAAABVBmgpJqEFsmUwIf//+qZYAAAMA8IEAAAAO\n",
       "QZ4oRRUsM/8AAAMA1IAAAAALAZ5HdEK/AAADAYsAAAALAZ5JakK/AAADAYsAAAAVQZpOSahBbJlM\n",
       "CH///qmWAAADAPCAAAAADkGebEUVLDP/AAADANSAAAAACwGei3RCvwAAAwGLAAAACwGejWpCvwAA\n",
       "AwGLAAAAFUGakkmoQWyZTAh///6plgAAAwDwgQAAAA5BnrBFFSwz/wAAAwDUgAAAAAsBns90Qr8A\n",
       "AAMBiwAAAAsBntFqQr8AAAMBiwAAABVBmtZJqEFsmUwIf//+qZYAAAMA8IAAAAAOQZ70RRUsM/8A\n",
       "AAMA1IAAAAALAZ8TdEK/AAADAYsAAAALAZ8VakK/AAADAYsAAAAVQZsaSahBbJlMCH///qmWAAAD\n",
       "APCBAAAADkGfOEUVLDP/AAADANSBAAAACwGfV3RCvwAAAwGLAAAACwGfWWpCvwAAAwGLAAAAFUGb\n",
       "XkmoQWyZTAh///6plgAAAwDwgAAAAA5Bn3xFFSwz/wAAAwDUgQAAAAsBn5t0Qr8AAAMBiwAAAAsB\n",
       "n51qQr8AAAMBiwAAABVBm4JJqEFsmUwIf//+qZYAAAMA8IAAAAAOQZ+gRRUsM/8AAAMA1IEAAAAL\n",
       "AZ/fdEK/AAADAYsAAAALAZ/BakK/AAADAYsAAAAVQZvGSahBbJlMCH///qmWAAADAPCAAAAADkGf\n",
       "5EUVLDP/AAADANSBAAAACwGeA3RCvwAAAwGLAAAACwGeBWpCvwAAAwGLAAAAFUGaCkmoQWyZTAh/\n",
       "//6plgAAAwDwgQAAAA5BnihFFSwz/wAAAwDUgAAAAAsBnkd0Qr8AAAMBiwAAAAsBnklqQr8AAAMB\n",
       "iwAAABVBmk5JqEFsmUwIf//+qZYAAAMA8IAAAAAOQZ5sRRUsM/8AAAMA1IAAAAALAZ6LdEK/AAAD\n",
       "AYsAAAALAZ6NakK/AAADAYsAAAAVQZqSSahBbJlMCH///qmWAAADAPCBAAAADkGesEUVLDP/AAAD\n",
       "ANSAAAAACwGez3RCvwAAAwGLAAAACwGe0WpCvwAAAwGLAAAAFUGa1kmoQWyZTAh///6plgAAAwDw\n",
       "gAAAAA5BnvRFFSwz/wAAAwDUgAAAAAsBnxN0Qr8AAAMBiwAAAAsBnxVqQr8AAAMBiwAAABVBmxpJ\n",
       "qEFsmUwIf//+qZYAAAMA8IEAAAAOQZ84RRUsM/8AAAMA1IEAAAALAZ9XdEK/AAADAYsAAAALAZ9Z\n",
       "akK/AAADAYsAAAAVQZteSahBbJlMCH///qmWAAADAPCAAAAADkGffEUVLDP/AAADANSBAAAACwGf\n",
       "m3RCvwAAAwGLAAAACwGfnWpCvwAAAwGLAAAAFUGbgkmoQWyZTAh///6plgAAAwDwgAAAAA5Bn6BF\n",
       "FSwz/wAAAwDUgQAAAAsBn990Qr8AAAMBiwAAAAsBn8FqQr8AAAMBiwAAABVBm8ZJqEFsmUwIf//+\n",
       "qZYAAAMA8IAAAAAOQZ/kRRUsM/8AAAMA1IEAAAALAZ4DdEK/AAADAYsAAAALAZ4FakK/AAADAYsA\n",
       "AAAVQZoKSahBbJlMCH///qmWAAADAPCBAAAADkGeKEUVLDP/AAADANSAAAAACwGeR3RCvwAAAwGL\n",
       "AAAACwGeSWpCvwAAAwGLAAAAFUGaTkmoQWyZTAh///6plgAAAwDwgAAAAA5BnmxFFSwz/wAAAwDU\n",
       "gAAAAAsBnot0Qr8AAAMBiwAAAAsBno1qQr8AAAMBiwAAABVBmpJJqEFsmUwIf//+qZYAAAMA8IEA\n",
       "AAAOQZ6wRRUsM/8AAAMA1IAAAAALAZ7PdEK/AAADAYsAAAALAZ7RakK/AAADAYsAAAAVQZrWSahB\n",
       "bJlMCH///qmWAAADAPCAAAAADkGe9EUVLDP/AAADANSAAAAACwGfE3RCvwAAAwGLAAAACwGfFWpC\n",
       "vwAAAwGLAAAAFUGbGkmoQWyZTAh///6plgAAAwDwgQAAAA5BnzhFFSwz/wAAAwDUgQAAAAsBn1d0\n",
       "Qr8AAAMBiwAAAAsBn1lqQr8AAAMBiwAAABVBm15JqEFsmUwIf//+qZYAAAMA8IAAAAAOQZ98RRUs\n",
       "M/8AAAMA1IEAAAALAZ+bdEK/AAADAYsAAAALAZ+dakK/AAADAYsAAAAVQZuCSahBbJlMCH///qmW\n",
       "AAADAPCAAAAADkGfoEUVLDP/AAADANSBAAAACwGf33RCvwAAAwGLAAAACwGfwWpCvwAAAwGLAAAA\n",
       "FUGbxkmoQWyZTAh///6plgAAAwDwgAAAAA5Bn+RFFSwz/wAAAwDUgQAAAAsBngN0Qr8AAAMBiwAA\n",
       "AAsBngVqQr8AAAMBiwAAABVBmgpJqEFsmUwIf//+qZYAAAMA8IEAAAAOQZ4oRRUsM/8AAAMA1IAA\n",
       "AAALAZ5HdEK/AAADAYsAAAALAZ5JakK/AAADAYsAAAAVQZpOSahBbJlMCH///qmWAAADAPCAAAAA\n",
       "DkGebEUVLDP/AAADANSAAAAACwGei3RCvwAAAwGLAAAACwGejWpCvwAAAwGLAAAAFUGakkmoQWyZ\n",
       "TAh///6plgAAAwDwgQAAAA5BnrBFFSwz/wAAAwDUgAAAAAsBns90Qr8AAAMBiwAAAAsBntFqQr8A\n",
       "AAMBiwAAABVBmtZJqEFsmUwIf//+qZYAAAMA8IAAAAAOQZ70RRUsM/8AAAMA1IAAAAALAZ8TdEK/\n",
       "AAADAYsAAAALAZ8VakK/AAADAYsAAAAVQZsaSahBbJlMCH///qmWAAADAPCBAAAADkGfOEUVLDP/\n",
       "AAADANSBAAAACwGfV3RCvwAAAwGLAAAACwGfWWpCvwAAAwGLAAAAFUGbXkmoQWyZTAh///6plgAA\n",
       "AwDwgAAAAA5Bn3xFFSwz/wAAAwDUgQAAAAsBn5t0Qr8AAAMBiwAAAAsBn51qQr8AAAMBiwAAABVB\n",
       "m4JJqEFsmUwIf//+qZYAAAMA8IAAAAAOQZ+gRRUsM/8AAAMA1IEAAAALAZ/fdEK/AAADAYsAAAAL\n",
       "AZ/BakK/AAADAYsAAAAVQZvGSahBbJlMCH///qmWAAADAPCAAAAADkGf5EUVLDP/AAADANSBAAAA\n",
       "CwGeA3RCvwAAAwGLAAAACwGeBWpCvwAAAwGLAAAAFUGaCkmoQWyZTAh///6plgAAAwDwgQAAAA5B\n",
       "nihFFSwz/wAAAwDUgAAAAAsBnkd0Qr8AAAMBiwAAAAsBnklqQr8AAAMBiwAAABVBmk5JqEFsmUwI\n",
       "f//+qZYAAAMA8IAAAAAOQZ5sRRUsM/8AAAMA1IAAAAALAZ6LdEK/AAADAYsAAAALAZ6NakK/AAAD\n",
       "AYsAAAAVQZqSSahBbJlMCH///qmWAAADAPCBAAAADkGesEUVLDP/AAADANSAAAAACwGez3RCvwAA\n",
       "AwGLAAAACwGe0WpCvwAAAwGLAAAAFUGa1kmoQWyZTAh///6plgAAAwDwgAAAAA5BnvRFFSwz/wAA\n",
       "AwDUgAAAAAsBnxN0Qr8AAAMBiwAAAAsBnxVqQr8AAAMBiwAAABVBmxpJqEFsmUwIf//+qZYAAAMA\n",
       "8IEAAAAOQZ84RRUsM/8AAAMA1IEAAAALAZ9XdEK/AAADAYsAAAALAZ9ZakK/AAADAYsAAAAVQZte\n",
       "SahBbJlMCH///qmWAAADAPCAAAAADkGffEUVLDP/AAADANSBAAAACwGfm3RCvwAAAwGLAAAACwGf\n",
       "nWpCvwAAAwGLAAAAFUGbgkmoQWyZTAh///6plgAAAwDwgAAAAA5Bn6BFFSwz/wAAAwDUgQAAAAsB\n",
       "n990Qr8AAAMBiwAAAAsBn8FqQr8AAAMBiwAAABVBm8ZJqEFsmUwIf//+qZYAAAMA8IAAAAAOQZ/k\n",
       "RRUsM/8AAAMA1IEAAAALAZ4DdEK/AAADAYsAAAALAZ4FakK/AAADAYsAAAAVQZoKSahBbJlMCH//\n",
       "/qmWAAADAPCBAAAADkGeKEUVLDP/AAADANSAAAAACwGeR3RCvwAAAwGLAAAACwGeSWpCvwAAAwGL\n",
       "AAAAFUGaTkmoQWyZTAh///6plgAAAwDwgAAAAA5BnmxFFSwz/wAAAwDUgAAAAAsBnot0Qr8AAAMB\n",
       "iwAAAAsBno1qQr8AAAMBiwAAABVBmpJJqEFsmUwIf//+qZYAAAMA8IEAAAAOQZ6wRRUsM/8AAAMA\n",
       "1IAAAAALAZ7PdEK/AAADAYsAAAALAZ7RakK/AAADAYsAAAAVQZrWSahBbJlMCH///qmWAAADAPCA\n",
       "AAAADkGe9EUVLDP/AAADANSAAAAACwGfE3RCvwAAAwGLAAAACwGfFWpCvwAAAwGLAAAAFUGbGkmo\n",
       "QWyZTAh///6plgAAAwDwgQAAAA5BnzhFFSwz/wAAAwDUgQAAAAsBn1d0Qr8AAAMBiwAAAAsBn1lq\n",
       "Qr8AAAMBiwAAABVBm15JqEFsmUwIf//+qZYAAAMA8IAAAAAOQZ98RRUsM/8AAAMA1IEAAAALAZ+b\n",
       "dEK/AAADAYsAAAALAZ+dakK/AAADAYsAAAAVQZuCSahBbJlMCH///qmWAAADAPCAAAAADkGfoEUV\n",
       "LDP/AAADANSBAAAACwGf33RCvwAAAwGLAAAACwGfwWpCvwAAAwGLAAAAFUGbxkmoQWyZTAh3//6p\n",
       "lgAAAwDwgAAAAA5Bn+RFFSwz/wAAAwDUgQAAAAsBngN0Qr8AAAMBiwAAAAsBngVqQr8AAAMBiwAA\n",
       "ABVBmgpJqEFsmUwId//+qZYAAAMA8IEAAAAOQZ4oRRUsM/8AAAMA1IAAAAALAZ5HdEK/AAADAYsA\n",
       "AAALAZ5JakK/AAADAYsAAAATQZpOSahBbJlMCGf//p4QAAAHTAAAAA5BnmxFFSwz/wAAAwDUgAAA\n",
       "AAsBnot0Qr8AAAMBiwAAAAsBno1qQr8AAAMBiwAAABRBmpBJqEFsmUwUTCv//jhAAAAccQAAAAsB\n",
       "nq9qQr8AAAMBiwAADbptb292AAAAbG12aGQAAAAAAAAAAAAAAAAAAAPoAAAvEgABAAABAAAAAAAA\n",
       "AAAAAAAAAQAAAAAAAAAAAAAAAAAAAAEAAAAAAAAAAAAAAAAAAEAAAAAAAAAAAAAAAAAAAAAAAAAA\n",
       "AAAAAAAAAAAAAAACAAAM5HRyYWsAAABcdGtoZAAAAAMAAAAAAAAAAAAAAAEAAAAAAAAvEgAAAAAA\n",
       "AAAAAAAAAAAAAAAAAQAAAAAAAAAAAAAAAAAAAAEAAAAAAAAAAAAAAAAAAEAAAAABsAAAASAAAAAA\n",
       "ACRlZHRzAAAAHGVsc3QAAAAAAAAAAQAALxIAAAQAAAEAAAAADFxtZGlhAAAAIG1kaGQAAAAAAAAA\n",
       "AAAAAAAAACgAAAHiAFXEAAAAAAAtaGRscgAAAAAAAAAAdmlkZQAAAAAAAAAAAAAAAFZpZGVvSGFu\n",
       "ZGxlcgAAAAwHbWluZgAAABR2bWhkAAAAAQAAAAAAAAAAAAAAJGRpbmYAAAAcZHJlZgAAAAAAAAAB\n",
       "AAAADHVybCAAAAABAAALx3N0YmwAAACzc3RzZAAAAAAAAAABAAAAo2F2YzEAAAAAAAAAAQAAAAAA\n",
       "AAAAAAAAAAAAAAABsAEgAEgAAABIAAAAAAAAAAEAAAAAAAAAAAAAAAAAAAAAAAAAAAAAAAAAAAAA\n",
       "AAAAAAAY//8AAAAxYXZjQwFkABX/4QAYZ2QAFazZQbCWhAAAAwAEAAADAKA8WLZYAQAGaOvjyyLA\n",
       "AAAAHHV1aWRraEDyXyRPxbo5pRvPAyPzAAAAAAAAABhzdHRzAAAAAAAAAAEAAADxAAACAAAAABRz\n",
       "dHNzAAAAAAAAAAEAAAABAAAG2GN0dHMAAAAAAAAA2QAAABkAAAQAAAAAAQAABgAAAAABAAACAAAA\n",
       "AAEAAAoAAAAAAQAABAAAAAABAAAAAAAAAAEAAAIAAAAAAQAACgAAAAABAAAEAAAAAAEAAAAAAAAA\n",
       "AQAAAgAAAAABAAAKAAAAAAEAAAQAAAAAAQAAAAAAAAABAAACAAAAAAEAAAoAAAAAAQAABAAAAAAB\n",
       "AAAAAAAAAAEAAAIAAAAAAQAACgAAAAABAAAEAAAAAAEAAAAAAAAAAQAAAgAAAAABAAAKAAAAAAEA\n",
       "AAQAAAAAAQAAAAAAAAABAAACAAAAAAEAAAoAAAAAAQAABAAAAAABAAAAAAAAAAEAAAIAAAAAAQAA\n",
       "CgAAAAABAAAEAAAAAAEAAAAAAAAAAQAAAgAAAAABAAAKAAAAAAEAAAQAAAAAAQAAAAAAAAABAAAC\n",
       "AAAAAAEAAAoAAAAAAQAABAAAAAABAAAAAAAAAAEAAAIAAAAAAQAACgAAAAABAAAEAAAAAAEAAAAA\n",
       "AAAAAQAAAgAAAAABAAAKAAAAAAEAAAQAAAAAAQAAAAAAAAABAAACAAAAAAEAAAoAAAAAAQAABAAA\n",
       "AAABAAAAAAAAAAEAAAIAAAAAAQAACgAAAAABAAAEAAAAAAEAAAAAAAAAAQAAAgAAAAABAAAKAAAA\n",
       "AAEAAAQAAAAAAQAAAAAAAAABAAACAAAAAAEAAAoAAAAAAQAABAAAAAABAAAAAAAAAAEAAAIAAAAA\n",
       "AQAACgAAAAABAAAEAAAAAAEAAAAAAAAAAQAAAgAAAAABAAAKAAAAAAEAAAQAAAAAAQAAAAAAAAAB\n",
       "AAACAAAAAAEAAAoAAAAAAQAABAAAAAABAAAAAAAAAAEAAAIAAAAAAQAACgAAAAABAAAEAAAAAAEA\n",
       "AAAAAAAAAQAAAgAAAAABAAAKAAAAAAEAAAQAAAAAAQAAAAAAAAABAAACAAAAAAEAAAoAAAAAAQAA\n",
       "BAAAAAABAAAAAAAAAAEAAAIAAAAAAQAACgAAAAABAAAEAAAAAAEAAAAAAAAAAQAAAgAAAAABAAAK\n",
       "AAAAAAEAAAQAAAAAAQAAAAAAAAABAAACAAAAAAEAAAoAAAAAAQAABAAAAAABAAAAAAAAAAEAAAIA\n",
       "AAAAAQAACgAAAAABAAAEAAAAAAEAAAAAAAAAAQAAAgAAAAABAAAKAAAAAAEAAAQAAAAAAQAAAAAA\n",
       "AAABAAACAAAAAAEAAAoAAAAAAQAABAAAAAABAAAAAAAAAAEAAAIAAAAAAQAACgAAAAABAAAEAAAA\n",
       "AAEAAAAAAAAAAQAAAgAAAAABAAAKAAAAAAEAAAQAAAAAAQAAAAAAAAABAAACAAAAAAEAAAoAAAAA\n",
       "AQAABAAAAAABAAAAAAAAAAEAAAIAAAAAAQAACgAAAAABAAAEAAAAAAEAAAAAAAAAAQAAAgAAAAAB\n",
       "AAAKAAAAAAEAAAQAAAAAAQAAAAAAAAABAAACAAAAAAEAAAoAAAAAAQAABAAAAAABAAAAAAAAAAEA\n",
       "AAIAAAAAAQAACgAAAAABAAAEAAAAAAEAAAAAAAAAAQAAAgAAAAABAAAKAAAAAAEAAAQAAAAAAQAA\n",
       "AAAAAAABAAACAAAAAAEAAAoAAAAAAQAABAAAAAABAAAAAAAAAAEAAAIAAAAAAQAACgAAAAABAAAE\n",
       "AAAAAAEAAAAAAAAAAQAAAgAAAAABAAAKAAAAAAEAAAQAAAAAAQAAAAAAAAABAAACAAAAAAEAAAoA\n",
       "AAAAAQAABAAAAAABAAAAAAAAAAEAAAIAAAAAAQAACgAAAAABAAAEAAAAAAEAAAAAAAAAAQAAAgAA\n",
       "AAABAAAKAAAAAAEAAAQAAAAAAQAAAAAAAAABAAACAAAAAAEAAAoAAAAAAQAABAAAAAABAAAAAAAA\n",
       "AAEAAAIAAAAAAQAACgAAAAABAAAEAAAAAAEAAAAAAAAAAQAAAgAAAAABAAAKAAAAAAEAAAQAAAAA\n",
       "AQAAAAAAAAABAAACAAAAAAEAAAoAAAAAAQAABAAAAAABAAAAAAAAAAEAAAIAAAAAAQAACgAAAAAB\n",
       "AAAEAAAAAAEAAAAAAAAAAQAAAgAAAAABAAAKAAAAAAEAAAQAAAAAAQAAAAAAAAABAAACAAAAAAEA\n",
       "AAoAAAAAAQAABAAAAAABAAAAAAAAAAEAAAIAAAAAAQAACgAAAAABAAAEAAAAAAEAAAAAAAAAAQAA\n",
       "AgAAAAABAAAKAAAAAAEAAAQAAAAAAQAAAAAAAAABAAACAAAAAAEAAAoAAAAAAQAABAAAAAABAAAA\n",
       "AAAAAAEAAAIAAAAAAQAACgAAAAABAAAEAAAAAAEAAAAAAAAAAQAAAgAAAAABAAAGAAAAAAEAAAIA\n",
       "AAAAHHN0c2MAAAAAAAAAAQAAAAEAAADxAAAAAQAAA9hzdHN6AAAAAAAAAAAAAADxAAALqwAAAVIA\n",
       "AADpAAABAAAAARkAAAEiAAABPAAAAR8AAAFrAAABPwAAAS0AAAFLAAABJAAAATIAAAERAAAA6gAA\n",
       "APYAAADeAAAA+wAAARgAAAERAAABKwAAALAAAAEUAAABOAAAAN0AAAAsAAAAvAAAADYAAAAiAAAA\n",
       "HAAAAEAAAAAiAAAAIAAAAA8AAAAZAAAAEgAAAA8AAAAPAAAAGQAAABIAAAAPAAAADwAAABkAAAAS\n",
       "AAAADwAAAA8AAAAZAAAAEgAAAA8AAAAPAAAAGQAAABIAAAAPAAAADwAAABkAAAASAAAADwAAAA8A\n",
       "AAAZAAAAEgAAAA8AAAAPAAAAGQAAABIAAAAPAAAADwAAABkAAAASAAAADwAAAA8AAAAZAAAAEgAA\n",
       "AA8AAAAPAAAAGQAAABIAAAAPAAAADwAAABkAAAASAAAADwAAAA8AAAAZAAAAEgAAAA8AAAAPAAAA\n",
       "GQAAABIAAAAPAAAADwAAABkAAAASAAAADwAAAA8AAAAZAAAAEgAAAA8AAAAPAAAAGQAAABIAAAAP\n",
       "AAAADwAAABkAAAASAAAADwAAAA8AAAAZAAAAEgAAAA8AAAAPAAAAGQAAABIAAAAPAAAADwAAABkA\n",
       "AAASAAAADwAAAA8AAAAZAAAAEgAAAA8AAAAPAAAAGQAAABIAAAAPAAAADwAAABkAAAASAAAADwAA\n",
       "AA8AAAAZAAAAEgAAAA8AAAAPAAAAGQAAABIAAAAPAAAADwAAABkAAAASAAAADwAAAA8AAAAZAAAA\n",
       "EgAAAA8AAAAPAAAAGQAAABIAAAAPAAAADwAAABkAAAASAAAADwAAAA8AAAAZAAAAEgAAAA8AAAAP\n",
       "AAAAGQAAABIAAAAPAAAADwAAABkAAAASAAAADwAAAA8AAAAZAAAAEgAAAA8AAAAPAAAAGQAAABIA\n",
       "AAAPAAAADwAAABkAAAASAAAADwAAAA8AAAAZAAAAEgAAAA8AAAAPAAAAGQAAABIAAAAPAAAADwAA\n",
       "ABkAAAASAAAADwAAAA8AAAAZAAAAEgAAAA8AAAAPAAAAGQAAABIAAAAPAAAADwAAABkAAAASAAAA\n",
       "DwAAAA8AAAAZAAAAEgAAAA8AAAAPAAAAGQAAABIAAAAPAAAADwAAABkAAAASAAAADwAAAA8AAAAZ\n",
       "AAAAEgAAAA8AAAAPAAAAGQAAABIAAAAPAAAADwAAABkAAAASAAAADwAAAA8AAAAZAAAAEgAAAA8A\n",
       "AAAPAAAAGQAAABIAAAAPAAAADwAAABcAAAASAAAADwAAAA8AAAAYAAAADwAAABRzdGNvAAAAAAAA\n",
       "AAEAAAAsAAAAYnVkdGEAAABabWV0YQAAAAAAAAAhaGRscgAAAAAAAAAAbWRpcmFwcGwAAAAAAAAA\n",
       "AAAAAAAtaWxzdAAAACWpdG9vAAAAHWRhdGEAAAABAAAAAExhdmY1Ny43MS4xMDA=\n",
       "\">\n",
       "  Your browser does not support the video tag.\n",
       "</video>"
      ],
      "text/plain": [
       "<IPython.core.display.HTML object>"
      ]
     },
     "execution_count": 52,
     "metadata": {},
     "output_type": "execute_result"
    }
   ],
   "source": [
    "HTML(animate_lift(sim).to_html5_video())"
   ]
  },
  {
   "cell_type": "code",
   "execution_count": 46,
   "metadata": {},
   "outputs": [
    {
     "name": "stdout",
     "output_type": "stream",
     "text": [
      "4.5124852888833376\n"
     ]
    },
    {
     "data": {
      "image/png": "[encoded data removed]",
      "text/plain": [
       "<matplotlib.figure.Figure at 0x7f608b37d0b8>"
      ]
     },
     "metadata": {},
     "output_type": "display_data"
    }
   ],
   "source": [
    "def elv_speed_ftps(ng, load):\n",
    "    radius = inch_to_meter(2.12)\n",
    "    motor_torque = load * radius / ng\n",
    "    #print(motors.bag.current_at_torque(motor_torque))\n",
    "    rotmotor = motors._775pro.speed_at_torque(motor_torque)\n",
    "    vel = meter_to_feet(rotmotor * radius / ng)\n",
    "    return vel\n",
    "\n",
    "a = elv_speed_ftps(50, 230)\n",
    "print(a)\n",
    "ngs = numpy.linspace(50, 100)\n",
    "speed_func = numpy.vectorize(lambda ng: elv_speed_ftps(ng, 230))\n",
    "speeds = speed_func(ngs)\n",
    "plt.plot(ngs, speeds)\n",
    "plt.show()"
   ]
  },
  {
   "cell_type": "code",
   "execution_count": 54,
   "metadata": {},
   "outputs": [
    {
     "data": {
      "image/png": "[encoded data removed]",
      "text/plain": [
       "<matplotlib.figure.Figure at 0x7f5a99938ba8>"
      ]
     },
     "metadata": {},
     "output_type": "display_data"
    },
    {
     "data": {
      "image/png": "[encoded data removed]",
      "text/plain": [
       "<matplotlib.figure.Figure at 0x7f5a99a2d080>"
      ]
     },
     "metadata": {},
     "output_type": "display_data"
    },
    {
     "data": {
      "image/png": "[encoded data removed]",
      "text/plain": [
       "<matplotlib.figure.Figure at 0x7f5a9981ca58>"
      ]
     },
     "metadata": {},
     "output_type": "display_data"
    }
   ],
   "source": [
    "sim.run_climb_sim(timeout=5)\n",
    "plot_position(sim)\n",
    "plot_current(sim)\n",
    "plot_velocity(sim)"
   ]
  },
  {
   "cell_type": "code",
   "execution_count": 31,
   "metadata": {},
   "outputs": [
    {
     "data": {
      "text/plain": [
       "232.1348982320606"
      ]
     },
     "execution_count": 31,
     "metadata": {},
     "output_type": "execute_result"
    }
   ],
   "source": [
    "#HTML(animate_climb(sim).to_html5_video())\n",
    "50 * .25 / inch_to_meter(2.12)"
   ]
  },
  {
   "cell_type": "code",
   "execution_count": 9,
   "metadata": {
    "collapsed": true
   },
   "outputs": [],
   "source": [
    "import wpilib"
   ]
  },
  {
   "cell_type": "code",
   "execution_count": 2,
   "metadata": {},
   "outputs": [
    {
     "data": {
      "text/plain": [
       "28.981132075471695"
      ]
     },
     "execution_count": 2,
     "metadata": {},
     "output_type": "execute_result"
    }
   ],
   "source": [
    "5.12 * 12 / 2.12\n"
   ]
  },
  {
   "cell_type": "code",
   "execution_count": 11,
   "metadata": {},
   "outputs": [
    {
     "data": {
      "text/plain": [
       "0.053848"
      ]
     },
     "execution_count": 11,
     "metadata": {},
     "output_type": "execute_result"
    }
   ],
   "source": [
    "inch_to_meter(2.12)"
   ]
  },
  {
   "cell_type": "code",
   "execution_count": 12,
   "metadata": {},
   "outputs": [
    {
     "data": {
      "text/plain": [
       "29.32"
      ]
     },
     "execution_count": 12,
     "metadata": {},
     "output_type": "execute_result"
    }
   ],
   "source": [
    "1466 / 50."
   ]
  },
  {
   "cell_type": "code",
   "execution_count": null,
   "metadata": {
    "collapsed": true
   },
   "outputs": [],
   "source": []
  }
 ],
 "metadata": {
  "kernelspec": {
   "display_name": "Python 3",
   "language": "python",
   "name": "python3"
  },
  "language_info": {
   "codemirror_mode": {
    "name": "ipython",
    "version": 3
   },
   "file_extension": ".py",
   "mimetype": "text/x-python",
   "name": "python",
   "nbconvert_exporter": "python",
   "pygments_lexer": "ipython3",
   "version": "3.6.5"
  }
 },
 "nbformat": 4,
 "nbformat_minor": 2
}
