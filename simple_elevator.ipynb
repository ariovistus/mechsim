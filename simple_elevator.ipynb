{
 "cells": [
  {
   "cell_type": "code",
   "execution_count": 20,
   "metadata": {},
   "outputs": [],
   "source": [
    "from frc3223_azurite.motors import *\n",
    "from frc3223_azurite import motors\n",
    "from frc3223_azurite.conversions import *"
   ]
  },
  {
   "cell_type": "code",
   "execution_count": 21,
   "metadata": {},
   "outputs": [],
   "source": [
    "motor = bag\n",
    "\n",
    "def calculate(motor, Ng, r, voltage, mass, L, N=1, eff=0.5):\n",
    "    f = mass * g\n",
    "    torque = r * f / eff\n",
    "    motor_torque = torque / Ng / N\n",
    "    w = motor.speed_at_torque_and_voltage(motor_torque, voltage)\n",
    "    i = motor.current_at_torque(motor_torque)\n",
    "    w_out = w / Ng\n",
    "    v_out = w_out * r\n",
    "    time = L / v_out\n",
    "    print(\"%s @ Ng=%s r=%.3f m, V=%.2f V, m=%s kg, L=%.3f m\" % (motor.name, Ng, r, voltage, mass, L))\n",
    "    print(' g torque: %s Nm' % torque)\n",
    "    print(\" motor torque: %s Nm\" % motor_torque)\n",
    "    print(\" motor current: %s A\" % i)\n",
    "    print(\" motor velocity: %s rad/s\" % w)\n",
    "    print(\" winch velocity: %s rad/s\" % w_out)\n",
    "    print(\" winch velocity: %s in/s\" % meter_to_inch(v_out))\n",
    "    print(\" time to climb: %s s\" % time)\n",
    "             \n",
    "    "
   ]
  },
  {
   "cell_type": "code",
   "execution_count": 33,
   "metadata": {},
   "outputs": [
    {
     "name": "stdout",
     "output_type": "stream",
     "text": [
      "minicim @ Ng=10 r=0.013 m, V=9.00 V, m=36.288 kg, L=0.483 m\n",
      " g torque: 9.042026111999999 Nm\n",
      " motor torque: 0.9042026111999999 Nm\n",
      " motor current: 55.543874687999995 A\n",
      " motor velocity: 67.61483891698245 rad/s\n",
      " winch velocity: 6.761483891698245 rad/s\n",
      " winch velocity: 3.3807419458491226 in/s\n",
      " time to climb: 5.620068110589811 s\n"
     ]
    }
   ],
   "source": [
    "calculate(motors.minicim, Ng=10, r=inch_to_meter(.5), voltage=9, mass=lbs_to_kg(80), L=inch_to_meter(19))"
   ]
  },
  {
   "cell_type": "code",
   "execution_count": 9,
   "metadata": {},
   "outputs": [
    {
     "name": "stdout",
     "output_type": "stream",
     "text": [
      "bag @ Ng=25 r=0.054 m, V=10.70 V, m=13.608 kg, L=1.829 m\n",
      " g torque: 7.188410759040001 Nm\n",
      " motor torque: 0.14376821518080002 Nm\n",
      " motor current: 17.72026838274977 A\n",
      " motor velocity: 769.2193485931767 rad/s\n",
      " winch velocity: 30.76877394372707 rad/s\n",
      " time to climb: 1.1037899726864935 s\n"
     ]
    }
   ],
   "source": [
    "calculate(bag, 25, inch_to_meter(2.12), 10.7, lbs_to_kg(30.), inch_to_meter(72), N=2)"
   ]
  },
  {
   "cell_type": "code",
   "execution_count": 5,
   "metadata": {},
   "outputs": [
    {
     "data": {
      "text/plain": [
       "1.7971026897600002"
      ]
     },
     "execution_count": 5,
     "metadata": {},
     "output_type": "execute_result"
    }
   ],
   "source": [
    "lbs_to_kg(30) * inch_to_meter(2.12) * g / 4."
   ]
  },
  {
   "cell_type": "code",
   "execution_count": 6,
   "metadata": {},
   "outputs": [
    {
     "data": {
      "text/plain": [
       "41.00140465116279"
      ]
     },
     "execution_count": 6,
     "metadata": {},
     "output_type": "execute_result"
    }
   ],
   "source": [
    "(1 - 0.0718 / 0.43 ) * 1380 * 10.7 / 12 / 25"
   ]
  },
  {
   "cell_type": "code",
   "execution_count": 7,
   "metadata": {},
   "outputs": [
    {
     "data": {
      "text/plain": [
       "0.0718"
      ]
     },
     "execution_count": 7,
     "metadata": {},
     "output_type": "execute_result"
    }
   ],
   "source": [
    "7.18 / 4 / 25"
   ]
  },
  {
   "cell_type": "code",
   "execution_count": null,
   "metadata": {},
   "outputs": [],
   "source": []
  }
 ],
 "metadata": {
  "kernelspec": {
   "display_name": "Python 3",
   "language": "python",
   "name": "python3"
  },
  "language_info": {
   "codemirror_mode": {
    "name": "ipython",
    "version": 3
   },
   "file_extension": ".py",
   "mimetype": "text/x-python",
   "name": "python",
   "nbconvert_exporter": "python",
   "pygments_lexer": "ipython3",
   "version": "3.6.8"
  }
 },
 "nbformat": 4,
 "nbformat_minor": 2
}
