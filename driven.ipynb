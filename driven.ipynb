{
 "cells": [
  {
   "cell_type": "code",
   "execution_count": null,
   "metadata": {
    "collapsed": true
   },
   "outputs": [],
   "source": [
    "# !pip install frc3223-azurite"
   ]
  },
  {
   "cell_type": "code",
   "execution_count": 1,
   "metadata": {
    "collapsed": true
   },
   "outputs": [],
   "source": [
    "from frc3223_azurite import motors\n",
    "from frc3223_azurite.conversions import *\n",
    "import numpy\n",
    "from driven import DriveSim\n",
    "from matplotlib import pyplot as plt"
   ]
  },
  {
   "cell_type": "code",
   "execution_count": 6,
   "metadata": {},
   "outputs": [
    {
     "data": {
      "image/png": "[encoded data removed]",
      "text/plain": [
       "<matplotlib.figure.Figure at 0x7fe8b930c668>"
      ]
     },
     "metadata": {},
     "output_type": "display_data"
    }
   ],
   "source": [
    "sim1 = DriveSim(\n",
    "    wheel_radius_m=inch_to_meter(2), \n",
    "    u_static=.95,\n",
    "    u_kinetic=.75,\n",
    "    robot_mass_kg=lbs_to_kg(154),\n",
    "    battery_resistance_ohms=0.015,\n",
    "    fuse_resistance_ohms=0.002,\n",
    "    gearbox_efficiency=0.65,\n",
    "    rolling0=30,\n",
    "    rolling1=5,\n",
    "    gearbox_count=2,\n",
    "    gearbox=motors.MotorSystem(motor=motors.cim, motor_count=2, gearing_ratio=4.4))\n",
    "sim2 = DriveSim(\n",
    "    wheel_radius_m=inch_to_meter(3),\n",
    "    u_static=.95,\n",
    "    u_kinetic=0.75,\n",
    "    robot_mass_kg=lbs_to_kg(154),\n",
    "    gearbox_count=6,\n",
    "    gearbox=motors.MotorSystem(motor=motors.cim, motor_count=1, gearing_ratio=7.95))\n",
    "sim1.run_sim(timeout_s=5)\n",
    "sim2.run_sim(timeout_s=5)\n",
    "\n",
    "m2ft = numpy.vectorize(meter_to_feet)\n",
    "#plt.ylim(16, 20.5)\n",
    "plt.plot(sim1.ts, sim2.voltages)\n",
    "#plt.plot(sim1.ts, m2ft(sim1.vs))\n",
    "plt.plot(sim2.ts, m2ft(sim2.vs))\n",
    "plt.legend([\"sim 1\",\"sim 2\"])\n",
    "plt.xlabel(\"time (s)\")\n",
    "plt.ylabel(\"speed (ft/s)\")\n",
    "plt.show()"
   ]
  },
  {
   "cell_type": "code",
   "execution_count": 7,
   "metadata": {
    "scrolled": true
   },
   "outputs": [
    {
     "name": "stdout",
     "output_type": "stream",
     "text": [
      "[ nan  nan  nan ...,  nan  nan  nan]\n"
     ]
    }
   ],
   "source": [
    "print (sim2.voltages)\n"
   ]
  },
  {
   "cell_type": "code",
   "execution_count": null,
   "metadata": {
    "collapsed": true
   },
   "outputs": [],
   "source": []
  }
 ],
 "metadata": {
  "kernelspec": {
   "display_name": "Python 3",
   "language": "python",
   "name": "python3"
  },
  "language_info": {
   "codemirror_mode": {
    "name": "ipython",
    "version": 3
   },
   "file_extension": ".py",
   "mimetype": "text/x-python",
   "name": "python",
   "nbconvert_exporter": "python",
   "pygments_lexer": "ipython3",
   "version": "3.6.3"
  }
 },
 "nbformat": 4,
 "nbformat_minor": 2
}
