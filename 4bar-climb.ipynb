{
 "cells": [
  {
   "cell_type": "code",
   "execution_count": 7,
   "metadata": {},
   "outputs": [],
   "source": [
    "from frc3223_azurite.conversions import *\n",
    "from frc3223_azurite import motors\n",
    "import numpy\n",
    "from matplotlib import pyplot as plt"
   ]
  },
  {
   "cell_type": "code",
   "execution_count": 91,
   "metadata": {},
   "outputs": [
    {
     "data": {
      "image/png": "[encoded data removed]",
      "text/plain": [
       "<Figure size 432x288 with 1 Axes>"
      ]
     },
     "metadata": {
      "needs_background": "light"
     },
     "output_type": "display_data"
    },
    {
     "name": "stdout",
     "output_type": "stream",
     "text": [
      "time:  0.9449751322333622\n"
     ]
    }
   ],
   "source": [
    "m = lbs_to_kg(155)\n",
    "L = inch_to_meter(22)\n",
    "I = 40\n",
    "motor_system = motors.MotorSystem(motor=motors.cim, motor_count=2, gearing_ratio=300)\n",
    "\n",
    "thetas = numpy.radians(numpy.linspace(0, 45, 50))\n",
    "\n",
    "plt.plot(thetas, numpy.cos(thetas) * m * g * L)\n",
    "plt.plot(thetas, [motor_system.torque_at_motor_current(I)] * len(thetas))\n",
    "plt.show()\n",
    "velocity = motor_system.speed_at_torque_and_voltage(motor_system.torque_at_motor_current(I), 9)\n",
    "time = thetas[-1] / velocity\n",
    "print(\"time: \", time)"
   ]
  },
  {
   "cell_type": "code",
   "execution_count": 82,
   "metadata": {},
   "outputs": [
    {
     "name": "stdout",
     "output_type": "stream",
     "text": [
      "Fc1:  2299.0716000000007   516.8776079136692\n",
      "Fc2:  3.912183511401915e+19   8.795376599374808e+18\n",
      "16.313852426260553\n"
     ]
    }
   ],
   "source": [
    "B = inch_to_meter(6)\n",
    "Lc = inch_to_meter(8)\n",
    "M = m\n",
    "Fc1 = (L / B) * M * g\n",
    "Fc2 =  (L / B) * M * g / numpy.cos(numpy.arctan(2 * Lc / B) - numpy.arctan( Lc / B)) / numpy.cos(numpy.radians(90) - numpy.arccos((3./4) * Lc / B ))\n",
    "print(\"Fc1: \", Fc1, \" \", N_to_lbs(Fc1))\n",
    "print(\"Fc2: \", Fc2, \" \", N_to_lbs(Fc2))\n",
    "theta = numpy.arctan ( 2 * Lc /  B ) - numpy.arctan ( Lc / B ) \n",
    "print(numpy.degrees(theta))"
   ]
  },
  {
   "cell_type": "code",
   "execution_count": 77,
   "metadata": {},
   "outputs": [
    {
     "data": {
      "text/plain": [
       "424.11500823462205"
      ]
     },
     "execution_count": 77,
     "metadata": {},
     "output_type": "execute_result"
    }
   ],
   "source": [
    "numpy.pi * (3/2)**2 * 60"
   ]
  },
  {
   "cell_type": "code",
   "execution_count": 80,
   "metadata": {},
   "outputs": [
    {
     "name": "stdout",
     "output_type": "stream",
     "text": [
      "19.44003482817619\n"
     ]
    }
   ],
   "source": [
    "theta = numpy.arctan ( 2 * Lc /  B ) - numpy.arctan ( Lc / B ) \n",
    "print(numpy.degrees(theta))"
   ]
  },
  {
   "cell_type": "code",
   "execution_count": null,
   "metadata": {},
   "outputs": [],
   "source": []
  }
 ],
 "metadata": {
  "kernelspec": {
   "display_name": "Python 3",
   "language": "python",
   "name": "python3"
  },
  "language_info": {
   "codemirror_mode": {
    "name": "ipython",
    "version": 3
   },
   "file_extension": ".py",
   "mimetype": "text/x-python",
   "name": "python",
   "nbconvert_exporter": "python",
   "pygments_lexer": "ipython3",
   "version": "3.6.7"
  }
 },
 "nbformat": 4,
 "nbformat_minor": 2
}
