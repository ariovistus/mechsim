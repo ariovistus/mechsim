{
 "cells": [
  {
   "cell_type": "code",
   "execution_count": null,
   "metadata": {
    "collapsed": true
   },
   "outputs": [],
   "source": [
    "import numpy\n",
    "from matplotlib import pyplot as plt\n",
    "from elevator import ElevatorSimulation\n",
    "from frc3223_azurite import motors\n",
    "from frc3223_azurite.conversions import *\n",
    "from frc3223_azurite.pidcontroller import NoThreadingPIDController as PIDController\n",
    "from matplotlib import animation, rc\n",
    "from IPython.display import HTML\n",
    "import matplotlib\n",
    "\n",
    "def plot_position(sim, ylim=None):\n",
    "    plt.plot(sim.ts, sim.xs)\n",
    "    if ylim is None:\n",
    "        ylim = (-sim.max_height_m * 0.1, sim.max_height_m * 1.1)\n",
    "    plt.ylim(*ylim)\n",
    "    plt.xlabel('time (s)')\n",
    "    plt.ylabel('position (m)')\n",
    "    plt.show()\n",
    "    \n",
    "def plot_velocity(sim):\n",
    "    m2ft = numpy.vectorize(meter_to_feet)\n",
    "    plt.plot(sim.ts, m2ft(sim.vs))\n",
    "    plt.ylim(-sim.max_height_m * 0.1, sim.max_height_m * 1.1)\n",
    "    plt.xlabel('time (s)')\n",
    "    plt.ylabel('velocity (ft/s)')\n",
    "    plt.show()\n",
    "\n",
    "def plot_current(sim, invert=False):\n",
    "    plt.plot(sim.ts, (-1 if invert else 1) * sim.currents)\n",
    "    plt.ylim(-sim.motor_system.motor.stall_current * 0.1, sim.motor_system.motor.stall_current * 0.8)\n",
    "    plt.xlabel('time (s)')\n",
    "    plt.ylabel('current (A)')\n",
    "    plt.show()\n",
    "    \n",
    "\n",
    "width = inch_to_meter(4)\n",
    "stage_x = numpy.array([0, 0, width, width, 0])\n",
    "_stage_y = numpy.array([0, 1, 1, 0, 0])\n",
    "\n",
    "\n",
    "def animate_lift(sim, frame_interval_ms=50, speed_factor=1):\n",
    "    assert matplotlib.rcParams['animation.writer'] in matplotlib.animation.writers.list(), 'choose an available writer!'\n",
    "    fig, ax = plt.subplots()\n",
    "    stage_y = _stage_y * sim.max_height_m\n",
    "    base_stage, stage_1, stage_2, carriage = plots = [ax.plot(stage_x, stage_y)[0] for i in range(4)]\n",
    "    plt.ylim(0, (len(plots) * 2 + 0.1) * sim.max_height_m)\n",
    "    dt = sim.ts[1]-sim.ts[0]\n",
    "    n = int(frame_interval_ms / 1000. / dt) # number of data points to skip\n",
    "    L = len(sim.ts) // n # number of data points sampled at 20 ms\n",
    "    print (n, L, len(sim.ts))\n",
    "    def init():\n",
    "        return (line,)\n",
    "    def animate(j): \n",
    "        i = j * n\n",
    "        plots[1].set_ydata(stage_y + sim.xs[i])\n",
    "        plots[2].set_ydata(stage_y + 2 * sim.xs[i])\n",
    "        plots[3].set_ydata(stage_y * 0.3 + 3 * sim.xs[i])\n",
    "\n",
    "        return plots\n",
    "\n",
    "\n",
    "    anim = animation.FuncAnimation(fig, animate, frames=L, interval=frame_interval_ms / speed_factor, blit=True)\n",
    "    return anim\n",
    "\n",
    "\n",
    "def animate_climb(sim, frame_interval_ms=50, speed_factor=1):\n",
    "    assert matplotlib.rcParams['animation.writer'] in matplotlib.animation.writers.list(), 'choose an available writer!'\n",
    "    fig, ax = plt.subplots()\n",
    "    stage_y = _stage_y * sim.max_height_m\n",
    "    base_stage, stage_1, stage_2, carriage = plots = [\n",
    "        ax.plot(stage_x, stage_y + i * sim.max_height_m)[0] for i in range(4)]\n",
    "    plt.ylim(0, (len(plots) * 2 + 0.1) * sim.max_height_m)\n",
    "    dt = sim.ts[1]-sim.ts[0]\n",
    "    n = int(frame_interval_ms / 1000. / dt) # number of data points to skip\n",
    "    L = len(sim.ts) // n # number of data points sampled at 20 ms\n",
    "    print (n, L, len(sim.ts))\n",
    "    def init():\n",
    "        return (line,)\n",
    "    def animate(j): \n",
    "        i = j * n\n",
    "        plots[0].set_ydata(stage_y + sim.xs[i])\n",
    "        plots[2].set_ydata(stage_y + 2 * sim.max_height_m - sim.xs[i])\n",
    "        plots[3].set_ydata(stage_y * 0.3 + 3 * sim.max_height_m - 2 * sim.xs[i])\n",
    "\n",
    "        return plots\n",
    "\n",
    "\n",
    "    anim = animation.FuncAnimation(fig, animate, frames=L, interval=frame_interval_ms / speed_factor, blit=True)\n",
    "    return anim\n"
   ]
  },
  {
   "cell_type": "code",
   "execution_count": null,
   "metadata": {},
   "outputs": [],
   "source": [
    "def init(state):\n",
    "    def pid_source():\n",
    "        return state.x\n",
    "    \n",
    "    def pid_output(v):\n",
    "        state.motor.set(v)\n",
    "    state.pid = PIDController(Kp = 0, Ki = 0, Kd = 0.0, Kf = 0.0, source = pid_source, output = pid_output)\n",
    "    state.pid.setOutputRange(-1, 1)\n",
    "    state.pid.setSetpoint(.5)\n",
    "    #state.pid.enable()\n",
    "\n",
    "def periodic(state):\n",
    "    state.motor.set(1)\n",
    "    pass\n",
    "\n",
    "\n",
    "sim = ElevatorSimulation(\n",
    "    starting_position_m=0,\n",
    "    max_height_m=inch_to_meter(44),\n",
    "    sprocket_radius_m=inch_to_meter(.60),\n",
    "    robot_mass_kg=lbs_to_kg(154),\n",
    "    stage1_mass_kg=lbs_to_kg(5.0),\n",
    "    stage2_mass_kg=lbs_to_kg(5.0),\n",
    "    stage3_mass_kg=lbs_to_kg(20.0),\n",
    "    stage1_counterweighting_n=lbs_to_N(75.0),\n",
    "    stage2_counterweighting_n=lbs_to_N(0.0),\n",
    "    init=init,\n",
    "    periodic=periodic,\n",
    "    pid_sample_rate_s=0.05,\n",
    "    gearbox_efficiency=0.65,\n",
    "    motor_system=motors.MotorSystem(motor=motors.cim, motor_count=1, gearing_ratio=30),\n",
    "    dt_s=0.0001,\n",
    ")\n",
    "\n",
    "print ('stages: ', sim.stages_gravity())\n",
    "print ('counterweight: ', sim.counterweighting())"
   ]
  },
  {
   "cell_type": "code",
   "execution_count": null,
   "metadata": {},
   "outputs": [],
   "source": [
    "sim.run_lift_sim(timeout=3)\n",
    "plot_position(sim)\n",
    "plot_current(sim)\n",
    "plot_velocity(sim)"
   ]
  },
  {
   "cell_type": "code",
   "execution_count": null,
   "metadata": {
    "collapsed": true
   },
   "outputs": [],
   "source": [
    "HTML(animate_lift(sim).to_html5_video())"
   ]
  },
  {
   "cell_type": "code",
   "execution_count": null,
   "metadata": {
    "collapsed": true
   },
   "outputs": [],
   "source": [
    "sim.run_climb_sim(timeout=5)\n",
    "plot_position(sim)\n",
    "plot_current(sim)\n",
    "plot_velocity(sim)"
   ]
  },
  {
   "cell_type": "code",
   "execution_count": null,
   "metadata": {
    "collapsed": true
   },
   "outputs": [],
   "source": [
    "HTML(animate_climb(sim).to_html5_video())"
   ]
  },
  {
   "cell_type": "code",
   "execution_count": null,
   "metadata": {
    "collapsed": true
   },
   "outputs": [],
   "source": []
  }
 ],
 "metadata": {
  "kernelspec": {
   "display_name": "Python 3",
   "language": "python",
   "name": "python3"
  },
  "language_info": {
   "codemirror_mode": {
    "name": "ipython",
    "version": 3
   },
   "file_extension": ".py",
   "mimetype": "text/x-python",
   "name": "python",
   "nbconvert_exporter": "python",
   "pygments_lexer": "ipython3",
   "version": "3.6.3"
  }
 },
 "nbformat": 4,
 "nbformat_minor": 2
}
