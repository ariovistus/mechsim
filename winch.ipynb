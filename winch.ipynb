{
 "cells": [
  {
   "cell_type": "code",
   "execution_count": null,
   "metadata": {},
   "outputs": [],
   "source": [
    "from winch import *\n",
    "from matplotlib import pyplot as plt\n"
   ]
  },
  {
   "cell_type": "code",
   "execution_count": null,
   "metadata": {},
   "outputs": [],
   "source": [
    "times = []\n",
    "torques = []\n",
    "positions = []\n",
    "\n",
    "def reporter(time, radius, position, **kwargs):\n",
    "    if len(times) == 0:\n",
    "        print (\"time     r       c    theta      t\")\n",
    "    print (\"%3.1f  %6.2f  %6.2f  %6.2f   %6.2f\" % (\n",
    "        time, meter_to_inch(radius), meter_to_inch(radius * 2 * 3.14), meter_to_inch(position), kwargs['winch_torque']))\n",
    "    times.append(time)\n",
    "    torques.append(kwargs['winch_torque'])\n",
    "    positions.append(position)\n",
    "\n",
    "\n",
    "run_sim(\n",
    "    height_m=inch_to_meter(14), \n",
    "    mass_kg=lbs_to_kg(130), \n",
    "    winch_radius_m=inch_to_meter(0.57), \n",
    "    rope_radius_m=inch_to_meter(0), \n",
    "    motor=minicim, \n",
    "    motor_count=1,\n",
    "    gearing_ratio=64,\n",
    "    reporter=reporter)"
   ]
  },
  {
   "cell_type": "code",
   "execution_count": null,
   "metadata": {},
   "outputs": [],
   "source": [
    "oldtimes=times\n",
    "oldpositions=positions\n",
    "plt.plot(times, positions)\n",
    "plt.show()"
   ]
  },
  {
   "cell_type": "code",
   "execution_count": null,
   "metadata": {},
   "outputs": [],
   "source": [
    "plt.plot(times, positions)\n",
    "plt.plot(oldtimes, oldpositions)\n",
    "plt.show()"
   ]
  },
  {
   "cell_type": "code",
   "execution_count": null,
   "metadata": {
    "collapsed": true
   },
   "outputs": [],
   "source": []
  }
 ],
 "metadata": {
  "kernelspec": {
   "display_name": "Python 3",
   "language": "python",
   "name": "python3"
  },
  "language_info": {
   "codemirror_mode": {
    "name": "ipython",
    "version": 3
   },
   "file_extension": ".py",
   "mimetype": "text/x-python",
   "name": "python",
   "nbconvert_exporter": "python",
   "pygments_lexer": "ipython3",
   "version": "3.4.3"
  }
 },
 "nbformat": 4,
 "nbformat_minor": 2
}
