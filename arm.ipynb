{
 "cells": [
  {
   "cell_type": "code",
   "execution_count": null,
   "metadata": {
    "collapsed": true
   },
   "outputs": [],
   "source": [
    "#!pip install pyfrc frc3223-azurite"
   ]
  },
  {
   "cell_type": "code",
   "execution_count": null,
   "metadata": {
    "collapsed": true
   },
   "outputs": [],
   "source": [
    "#!conda install -c menpo ffmpeg -y"
   ]
  },
  {
   "cell_type": "code",
   "execution_count": 1,
   "metadata": {
    "collapsed": true
   },
   "outputs": [],
   "source": [
    "import numpy\n",
    "from matplotlib import pyplot as plt\n",
    "from frc3223_azurite.motors import *\n",
    "from frc3223_azurite.conversions import *\n",
    "from frc3223_azurite.pidcontroller import NoThreadingPIDController as PIDController\n",
    "from arm import ArmSimulation"
   ]
  },
  {
   "cell_type": "code",
   "execution_count": 24,
   "metadata": {},
   "outputs": [
    {
     "data": {
      "image/png": "[encoded data removed]",
      "text/plain": [
       "<matplotlib.figure.Figure at 0x7f91851f2e80>"
      ]
     },
     "metadata": {},
     "output_type": "display_data"
    }
   ],
   "source": [
    "def init(state):\n",
    "    import wpilib\n",
    "    state.timer = wpilib.Timer()\n",
    "    state.timer.start()\n",
    "    state.motor.set(0.0)\n",
    "    def pid_source():\n",
    "        return state.theta_rad\n",
    "    def pid_output(v):\n",
    "        state.motor.set(v)\n",
    "    state.pid = PIDController(Kp = 0.0, Ki = 0.0, Kd = 0.0, Kf = 0.0, source = pid_source, output = pid_output)\n",
    "    state.pid.setOutputRange(-1, 1)\n",
    "    state.pid.setSetpoint(numpy.radians(45))\n",
    "    state.pid.enable()\n",
    "    \n",
    "    \n",
    "def periodic(state):\n",
    "    # state.stop = True\n",
    "    #state.timer.get()\n",
    "    pass\n",
    "\n",
    "sim = ArmSimulation(\n",
    "    dt_s=0.001,\n",
    "    starting_position_rad=numpy.radians(89),\n",
    "    end_mass_kg=lbs_to_kg(0.65),\n",
    "    arm_mass_kg=lbs_to_kg(2.0),\n",
    "    arm_length_m=inch_to_meter(15),\n",
    "    pid_sample_rate_s=0.005,\n",
    "    nominal_voltage=12.,\n",
    "    damping=0.01,\n",
    "    periodic = periodic,\n",
    "    init = init,\n",
    "    motor_system=MotorSystem(motor=am9015, motor_count=1, gearing_ratio=64),\n",
    ")\n",
    "sim.run_sim(timeout=5.)\n",
    "\n",
    "#plt.ylim(40, 46)\n",
    "thetas_deg = numpy.degrees(sim.thetas)\n",
    "plt.plot(sim.ts, thetas_deg, )\n",
    "plt.show()"
   ]
  },
  {
   "cell_type": "code",
   "execution_count": 16,
   "metadata": {},
   "outputs": [
    {
     "data": {
      "image/png": "[encoded data removed]",
      "text/plain": [
       "<matplotlib.figure.Figure at 0x7f9185429978>"
      ]
     },
     "metadata": {},
     "output_type": "display_data"
    }
   ],
   "source": [
    "plt.plot(sim.ts, sim.a_s)\n",
    "#plt.plot(sim.ts, sim.vs)\n",
    "#plt.plot(sim.ts, sim.thetas)\n",
    "#plt.plot(sim.ts, sim.voltages)\n",
    "#plt.plot(sim.ts, sim.currents)\n",
    "#plt.ylim(1.8, 2.4)\n",
    "plt.show()"
   ]
  },
  {
   "cell_type": "code",
   "execution_count": null,
   "metadata": {
    "collapsed": true
   },
   "outputs": [],
   "source": [
    "from matplotlib import animation, rc\n",
    "from IPython.display import HTML\n",
    "import matplotlib\n",
    "assert matplotlib.rcParams['animation.writer'] in matplotlib.animation.writers.list(), 'choose an available writer!'\n",
    "fig, ax = plt.subplots(subplot_kw={'projection': 'polar'})\n",
    "beta = numpy.zeros(shape=(2,))\n",
    "radii = numpy.linspace(0, 1, 2)\n",
    "line, = ax.plot(beta, radii)\n",
    "dt = sim.ts[1]-sim.ts[0]\n",
    "frame_interval = 50. # ms\n",
    "speed_factor = 1\n",
    "n = int(frame_interval / 1000. / dt) # number of data points to skip\n",
    "L = len(sim.ts) // n # number of data points sampled at 20 ms\n",
    "print (n, L, len(sim.ts))\n",
    "def init():\n",
    "    return (line,)\n",
    "def animate(i): \n",
    "    #print (i)\n",
    "    theta = sim.thetas[i * n]\n",
    "    beta[:] = theta\n",
    "    line.set_data(beta, radii)\n",
    "    return (line,)\n",
    "    \n",
    "\n",
    "anim = animation.FuncAnimation(fig, animate, frames=L, interval=frame_interval / speed_factor, blit=True)\n",
    "HTML(anim.to_html5_video())"
   ]
  },
  {
   "cell_type": "code",
   "execution_count": null,
   "metadata": {
    "collapsed": true
   },
   "outputs": [],
   "source": []
  }
 ],
 "metadata": {
  "kernelspec": {
   "display_name": "Python 3",
   "language": "python",
   "name": "python3"
  },
  "language_info": {
   "codemirror_mode": {
    "name": "ipython",
    "version": 3
   },
   "file_extension": ".py",
   "mimetype": "text/x-python",
   "name": "python",
   "nbconvert_exporter": "python",
   "pygments_lexer": "ipython3",
   "version": "3.6.2"
  }
 },
 "nbformat": 4,
 "nbformat_minor": 2
}
