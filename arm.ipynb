{
 "cells": [
  {
   "cell_type": "code",
   "execution_count": null,
   "metadata": {},
   "outputs": [],
   "source": [
    "import numpy\n",
    "from matplotlib import pyplot as plt\n",
    "from motors import *\n",
    "from utils import *\n",
    "import math\n",
    "from arm import ArmSimulation"
   ]
  },
  {
   "cell_type": "code",
   "execution_count": null,
   "metadata": {},
   "outputs": [],
   "source": [
    "def init(state):\n",
    "    state.voltage_p = 0\n",
    "    \n",
    "def periodic(state):\n",
    "    state.voltage_p = 0\n",
    "\n",
    "ts, a_s, vs, thetas, voltages = ArmSimulation(\n",
    "    dt_s=0.0001,\n",
    "    starting_position_rad=math.radians(89),\n",
    "    end_mass_kg=lbs_to_kg(5.0),\n",
    "    arm_mass_kg=lbs_to_kg(2.0),\n",
    "    arm_length_m=inch_to_meter(15),\n",
    "    nominal_voltage=12.,\n",
    "    periodic = periodic,\n",
    "    init = init,\n",
    "    motor_system=MotorSystem(motor=am9015, motor_count=1, gearing_ratio=64),\n",
    ").run_sim()\n",
    "\n",
    "thetas_deg = numpy.degrees(thetas)\n",
    "plt.plot(ts, thetas_deg)\n",
    "plt.show()"
   ]
  },
  {
   "cell_type": "code",
   "execution_count": null,
   "metadata": {},
   "outputs": [],
   "source": [
    "from matplotlib import animation, rc\n",
    "from IPython.display import HTML\n",
    "import matplotlib\n",
    "matplotlib.rcParams['animation.writer'] = 'avconv'\n",
    "fig, ax = plt.subplots(subplot_kw={'projection': 'polar'})\n",
    "beta = numpy.zeros(shape=(2,))\n",
    "radii = numpy.linspace(0, 1, 2)\n",
    "line, = ax.plot(beta, radii)\n",
    "dt = ts[1]-ts[0]\n",
    "n = int(0.04 / dt)\n",
    "L = len(ts) // n - 1\n",
    "\n",
    "def init():\n",
    "    return (line,)\n",
    "def animate(i): \n",
    "    theta = thetas[i * n]\n",
    "    beta[:] = theta\n",
    "    line.set_data(beta, radii)\n",
    "    return (line,)\n",
    "    \n",
    "\n",
    "anim = animation.FuncAnimation(fig, animate, frames=L, interval=20, blit=True)\n",
    "HTML(anim.to_html5_video())"
   ]
  },
  {
   "cell_type": "code",
   "execution_count": null,
   "metadata": {
    "collapsed": true
   },
   "outputs": [],
   "source": []
  }
 ],
 "metadata": {
  "kernelspec": {
   "display_name": "Python 3",
   "language": "python",
   "name": "python3"
  },
  "language_info": {
   "codemirror_mode": {
    "name": "ipython",
    "version": 3
   },
   "file_extension": ".py",
   "mimetype": "text/x-python",
   "name": "python",
   "nbconvert_exporter": "python",
   "pygments_lexer": "ipython3",
   "version": "3.4.3"
  }
 },
 "nbformat": 4,
 "nbformat_minor": 2
}
